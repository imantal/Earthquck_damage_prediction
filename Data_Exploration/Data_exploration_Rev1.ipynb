{
 "cells": [
  {
   "cell_type": "markdown",
   "metadata": {},
   "source": [
    "# Earthquake Damage Prediction"
   ]
  },
  {
   "cell_type": "code",
   "execution_count": 9,
   "metadata": {},
   "outputs": [],
   "source": [
    "import pandas as pd\n",
    "import numpy as np\n",
    "import matplotlib.pyplot as plt\n",
    "import seaborn as sns"
   ]
  },
  {
   "cell_type": "code",
   "execution_count": 10,
   "metadata": {},
   "outputs": [
    {
     "name": "stderr",
     "output_type": "stream",
     "text": [
      "C:\\Data\\Anaconda\\envs\\mlenv\\lib\\site-packages\\IPython\\core\\interactiveshell.py:3457: DtypeWarning: Columns (37,40) have mixed types.Specify dtype option on import or set low_memory=False.\n",
      "  exec(code_obj, self.user_global_ns, self.user_ns)\n"
     ]
    }
   ],
   "source": [
    "df = pd.read_csv('EQ_Damage.csv')"
   ]
  },
  {
   "cell_type": "markdown",
   "metadata": {},
   "source": [
    "# Exploratory Data Analysis"
   ]
  },
  {
   "cell_type": "code",
   "execution_count": 11,
   "metadata": {},
   "outputs": [],
   "source": [
    "damage_grade_updated = df['damage_grade'].replace(to_replace ='Grade ', value='',regex = True )\n",
    "df['damage_grade']=damage_grade_updated"
   ]
  },
  {
   "cell_type": "code",
   "execution_count": 12,
   "metadata": {},
   "outputs": [
    {
     "data": {
      "image/png": "[encoded data removed]",
      "text/plain": [
       "<Figure size 432x288 with 1 Axes>"
      ]
     },
     "metadata": {
      "needs_background": "light"
     },
     "output_type": "display_data"
    }
   ],
   "source": [
    "plt.bar(df['damage_grade'].value_counts().index,df['damage_grade'].value_counts())\n",
    "plt.xlabel(\"Damage Grade\")\n",
    "plt.ylabel(\"No. of Buildings\")\n",
    "plt.show()"
   ]
  },
  {
   "cell_type": "code",
   "execution_count": 13,
   "metadata": {},
   "outputs": [
    {
     "data": {
      "text/plain": [
       "['district_id',\n",
       " 'vdcmun_id',\n",
       " 'ward_id',\n",
       " 'building_id',\n",
       " 'damage_grade',\n",
       " 'technical_solution_proposed',\n",
       " 'damage_overall_collapse',\n",
       " 'damage_overall_leaning',\n",
       " 'damage_overall_adjacent_building_risk',\n",
       " 'damage_foundation_severe',\n",
       " 'damage_foundation_moderate',\n",
       " 'damage_foundation_insignificant',\n",
       " 'damage_roof_severe',\n",
       " 'damage_roof_moderate',\n",
       " 'damage_roof_insignificant',\n",
       " 'damage_corner_separation_severe',\n",
       " 'damage_corner_separation_moderate',\n",
       " 'damage_corner_separation_insignificant',\n",
       " 'damage_diagonal_cracking_severe',\n",
       " 'damage_diagonal_cracking_moderate',\n",
       " 'damage_diagonal_cracking_insignificant',\n",
       " 'damage_in_plane_failure_severe',\n",
       " 'damage_in_plane_failure_moderate',\n",
       " 'damage_in_plane_failure_insignificant',\n",
       " 'damage_out_of_plane_failure_severe',\n",
       " 'damage_out_of_plane_failure_moderate',\n",
       " 'damage_out_of_plane_failure_insignificant',\n",
       " 'damage_out_of_plane_failure_walls_ncfr_severe',\n",
       " 'damage_out_of_plane_failure_walls_ncfr_moderate',\n",
       " 'damage_out_of_plane_failure_walls_ncfr_insignificant',\n",
       " 'damage_gable_failure_severe',\n",
       " 'damage_gable_failure_moderate',\n",
       " 'damage_gable_failure_insignificant',\n",
       " 'damage_delamination_failure_severe',\n",
       " 'damage_delamination_failure_moderate',\n",
       " 'damage_delamination_failure_insignificant',\n",
       " 'damage_column_failure_severe',\n",
       " 'damage_column_failure_moderate',\n",
       " 'damage_column_failure_insignificant',\n",
       " 'damage_beam_failure_severe',\n",
       " 'damage_beam_failure_moderate',\n",
       " 'damage_beam_failure_insignificant',\n",
       " 'damage_infill_partition_failure_severe',\n",
       " 'damage_infill_partition_failure_moderate',\n",
       " 'damage_infill_partition_failure_insignificant',\n",
       " 'damage_staircase_severe',\n",
       " 'damage_staircase_moderate',\n",
       " 'damage_staircase_insignificant',\n",
       " 'damage_parapet_severe',\n",
       " 'damage_parapet_moderate',\n",
       " 'damage_parapet_insignificant',\n",
       " 'damage_cladding_glazing_severe',\n",
       " 'damage_cladding_glazing_moderate',\n",
       " 'damage_cladding_glazing_insignificant',\n",
       " 'area_assesed',\n",
       " 'has_repair_started',\n",
       " 'has_damage_foundation',\n",
       " 'has_damage_roof',\n",
       " 'has_damage_corner_separation',\n",
       " 'has_damage_diagonal_cracking',\n",
       " 'has_damage_in_plane_failure',\n",
       " 'has_damage_out_of_plane_failure',\n",
       " 'has_damage_out_of_plane_walls_ncfr_failure',\n",
       " 'has_damage_gable_failure',\n",
       " 'has_damage_delamination_failure',\n",
       " 'has_damage_column_failure',\n",
       " 'has_damage_beam_failure',\n",
       " 'has_damage_infill_partition_failure',\n",
       " 'has_damage_staircase',\n",
       " 'has_damage_parapet',\n",
       " 'has_damage_cladding_glazing',\n",
       " 'has_geotechnical_risk',\n",
       " 'has_geotechnical_risk_land_settlement',\n",
       " 'has_geotechnical_risk_fault_crack',\n",
       " 'has_geotechnical_risk_liquefaction',\n",
       " 'has_geotechnical_risk_landslide',\n",
       " 'has_geotechnical_risk_rock_fall',\n",
       " 'has_geotechnical_risk_flood',\n",
       " 'has_geotechnical_risk_other',\n",
       " 'legal_ownership_status',\n",
       " 'count_families',\n",
       " 'has_secondary_use',\n",
       " 'has_secondary_use_agriculture',\n",
       " 'has_secondary_use_hotel',\n",
       " 'has_secondary_use_rental',\n",
       " 'has_secondary_use_institution',\n",
       " 'has_secondary_use_school',\n",
       " 'has_secondary_use_industry',\n",
       " 'has_secondary_use_health_post',\n",
       " 'has_secondary_use_gov_office',\n",
       " 'has_secondary_use_use_police',\n",
       " 'has_secondary_use_other',\n",
       " 'count_floors_pre_eq',\n",
       " 'count_floors_post_eq',\n",
       " 'age_building',\n",
       " 'plinth_area_sq_ft',\n",
       " 'height_ft_pre_eq',\n",
       " 'height_ft_post_eq',\n",
       " 'land_surface_condition',\n",
       " 'foundation_type',\n",
       " 'roof_type',\n",
       " 'ground_floor_type',\n",
       " 'other_floor_type',\n",
       " 'position',\n",
       " 'plan_configuration',\n",
       " 'has_superstructure_adobe_mud',\n",
       " 'has_superstructure_mud_mortar_stone',\n",
       " 'has_superstructure_stone_flag',\n",
       " 'has_superstructure_cement_mortar_stone',\n",
       " 'has_superstructure_mud_mortar_brick',\n",
       " 'has_superstructure_cement_mortar_brick',\n",
       " 'has_superstructure_timber',\n",
       " 'has_superstructure_bamboo',\n",
       " 'has_superstructure_rc_non_engineered',\n",
       " 'has_superstructure_rc_engineered',\n",
       " 'has_superstructure_other',\n",
       " 'condition_post_eq',\n",
       " 'vdcmun_name',\n",
       " 'district_name']"
      ]
     },
     "execution_count": 13,
     "metadata": {},
     "output_type": "execute_result"
    }
   ],
   "source": [
    "list(df.columns)"
   ]
  },
  {
   "cell_type": "code",
   "execution_count": 23,
   "metadata": {},
   "outputs": [],
   "source": [
    "rel_df=df[[\n",
    " 'district_id',\n",
    " 'vdcmun_id',\n",
    " 'damage_grade',\n",
    " 'count_floors_pre_eq',  \n",
    " 'age_building',\n",
    " 'plinth_area_sq_ft',\n",
    " 'height_ft_pre_eq',\n",
    " 'land_surface_condition',\n",
    " 'foundation_type',\n",
    " 'roof_type',\n",
    " 'ground_floor_type',\n",
    " 'other_floor_type',\n",
    " 'position',\n",
    " 'plan_configuration',\n",
    " 'has_geotechnical_risk',\n",
    " 'has_superstructure_adobe_mud',\n",
    " 'has_superstructure_mud_mortar_stone',\n",
    " 'has_superstructure_stone_flag',\n",
    " 'has_superstructure_cement_mortar_stone',\n",
    " 'has_superstructure_mud_mortar_brick',\n",
    " 'has_superstructure_cement_mortar_brick',\n",
    " 'has_superstructure_timber',\n",
    " 'has_superstructure_bamboo',\n",
    " 'has_superstructure_rc_non_engineered',\n",
    " 'has_superstructure_rc_engineered',\n",
    " 'has_superstructure_other', \n",
    " 'condition_post_eq',   \n",
    "         ]]"
   ]
  },
  {
   "cell_type": "code",
   "execution_count": 27,
   "metadata": {},
   "outputs": [],
   "source": [
    "rel_df=rel_df.dropna()"
   ]
  },
  {
   "cell_type": "code",
   "execution_count": 28,
   "metadata": {},
   "outputs": [],
   "source": [
    "rel_df['damage_grade'] = rel_df['damage_grade'].astype(float)"
   ]
  },
  {
   "cell_type": "code",
   "execution_count": 29,
   "metadata": {},
   "outputs": [
    {
     "name": "stderr",
     "output_type": "stream",
     "text": [
      "C:\\Data\\Anaconda\\envs\\mlenv\\lib\\site-packages\\seaborn\\_decorators.py:43: FutureWarning: Pass the following variable as a keyword arg: x. From version 0.12, the only valid positional argument will be `data`, and passing other arguments without an explicit keyword will result in an error or misinterpretation.\n",
      "  FutureWarning\n"
     ]
    },
    {
     "data": {
      "text/plain": [
       "<AxesSubplot:xlabel='has_geotechnical_risk', ylabel='count'>"
      ]
     },
     "execution_count": 29,
     "metadata": {},
     "output_type": "execute_result"
    },
    {
     "data": {
      "image/png": "[encoded data removed]",
      "text/plain": [
       "<Figure size 432x288 with 1 Axes>"
      ]
     },
     "metadata": {
      "needs_background": "light"
     },
     "output_type": "display_data"
    }
   ],
   "source": [
    "sns.countplot(rel_df['has_geotechnical_risk'])"
   ]
  },
  {
   "cell_type": "code",
   "execution_count": 50,
   "metadata": {},
   "outputs": [
    {
     "name": "stderr",
     "output_type": "stream",
     "text": [
      "C:\\Data\\Anaconda\\envs\\mlenv\\lib\\site-packages\\seaborn\\_decorators.py:43: FutureWarning: Pass the following variable as a keyword arg: x. From version 0.12, the only valid positional argument will be `data`, and passing other arguments without an explicit keyword will result in an error or misinterpretation.\n",
      "  FutureWarning\n"
     ]
    },
    {
     "data": {
      "text/plain": [
       "<AxesSubplot:xlabel='foundation_type', ylabel='count'>"
      ]
     },
     "execution_count": 50,
     "metadata": {},
     "output_type": "execute_result"
    },
    {
     "data": {
      "image/png": "[encoded data removed]",
      "text/plain": [
       "<Figure size 432x288 with 1 Axes>"
      ]
     },
     "metadata": {
      "needs_background": "light"
     },
     "output_type": "display_data"
    }
   ],
   "source": [
    "sns.countplot(rel_df['foundation_type'])"
   ]
  },
  {
   "cell_type": "code",
   "execution_count": 30,
   "metadata": {},
   "outputs": [
    {
     "data": {
      "text/plain": [
       "<AxesSubplot:xlabel='has_geotechnical_risk', ylabel='damage_grade'>"
      ]
     },
     "execution_count": 30,
     "metadata": {},
     "output_type": "execute_result"
    },
    {
     "data": {
      "image/png": "[encoded data removed]",
      "text/plain": [
       "<Figure size 432x288 with 1 Axes>"
      ]
     },
     "metadata": {
      "needs_background": "light"
     },
     "output_type": "display_data"
    }
   ],
   "source": [
    "sns.boxplot(x='has_geotechnical_risk',y='damage_grade',data=rel_df)"
   ]
  },
  {
   "cell_type": "code",
   "execution_count": 52,
   "metadata": {},
   "outputs": [
    {
     "data": {
      "text/plain": [
       "<AxesSubplot:xlabel='damage_grade', ylabel='height_ft_pre_eq'>"
      ]
     },
     "execution_count": 52,
     "metadata": {},
     "output_type": "execute_result"
    },
    {
     "data": {
      "image/png": "[encoded data removed]",
      "text/plain": [
       "<Figure size 864x576 with 1 Axes>"
      ]
     },
     "metadata": {
      "needs_background": "light"
     },
     "output_type": "display_data"
    }
   ],
   "source": [
    "plt.figure(figsize=(12,8))\n",
    "#sns.boxplot(x='damage_grade',y='height_ft_post_eq',data=df)\n",
    "sns.boxplot(x='damage_grade',y='height_ft_pre_eq',data=df)\n"
   ]
  },
  {
   "cell_type": "code",
   "execution_count": 33,
   "metadata": {},
   "outputs": [
    {
     "data": {
      "text/plain": [
       "<AxesSubplot:xlabel='district_id', ylabel='vdcmun_id'>"
      ]
     },
     "execution_count": 33,
     "metadata": {},
     "output_type": "execute_result"
    },
    {
     "data": {
      "image/png": "[encoded data removed]",
      "text/plain": [
       "<Figure size 864x576 with 1 Axes>"
      ]
     },
     "metadata": {
      "needs_background": "light"
     },
     "output_type": "display_data"
    }
   ],
   "source": [
    "plt.figure(figsize=(12,8))\n",
    "sns.scatterplot(x='district_id',y='vdcmun_id',data=df,hue='damage_grade')\n"
   ]
  },
  {
   "cell_type": "code",
   "execution_count": 18,
   "metadata": {},
   "outputs": [
    {
     "data": {
      "text/plain": [
       "<AxesSubplot:xlabel='damage_grade', ylabel='plinth_area_sq_ft'>"
      ]
     },
     "execution_count": 18,
     "metadata": {},
     "output_type": "execute_result"
    },
    {
     "data": {
      "image/png": "[encoded data removed]",
      "text/plain": [
       "<Figure size 864x576 with 1 Axes>"
      ]
     },
     "metadata": {
      "needs_background": "light"
     },
     "output_type": "display_data"
    }
   ],
   "source": [
    "plt.figure(figsize=(12,8))\n",
    "sns.boxplot(x='damage_grade',y='plinth_area_sq_ft',data=df)"
   ]
  },
  {
   "cell_type": "code",
   "execution_count": 34,
   "metadata": {},
   "outputs": [
    {
     "name": "stderr",
     "output_type": "stream",
     "text": [
      "C:\\Data\\Anaconda\\envs\\mlenv\\lib\\site-packages\\seaborn\\distributions.py:2619: FutureWarning: `distplot` is a deprecated function and will be removed in a future version. Please adapt your code to use either `displot` (a figure-level function with similar flexibility) or `histplot` (an axes-level function for histograms).\n",
      "  warnings.warn(msg, FutureWarning)\n"
     ]
    },
    {
     "data": {
      "text/plain": [
       "<AxesSubplot:xlabel='age_building', ylabel='Density'>"
      ]
     },
     "execution_count": 34,
     "metadata": {},
     "output_type": "execute_result"
    },
    {
     "data": {
      "image/png": "[encoded data removed]",
      "text/plain": [
       "<Figure size 864x576 with 1 Axes>"
      ]
     },
     "metadata": {
      "needs_background": "light"
     },
     "output_type": "display_data"
    }
   ],
   "source": [
    "plt.figure(figsize=(12,8))\n",
    "sns.distplot(rel_df['age_building'])"
   ]
  },
  {
   "cell_type": "code",
   "execution_count": 10,
   "metadata": {},
   "outputs": [],
   "source": [
    "#count=rel_df['age_building'].value_counts()\n",
    "#print(count.sort_index().to_string())\n",
    "#print(count.sum())"
   ]
  },
  {
   "cell_type": "code",
   "execution_count": 11,
   "metadata": {},
   "outputs": [],
   "source": [
    "#bins=[-1,10,25,50,1000]\n",
    "#labels=[\"new\",\"almost_new\",\"old\",\"very_old\"]\n",
    "#rel_df[\"age_binned\"]=pd.cut(rel_df['age_building'], bins=bins,labels=labels)"
   ]
  },
  {
   "cell_type": "code",
   "execution_count": 12,
   "metadata": {},
   "outputs": [],
   "source": [
    "#count=rel_df[\"age_binned\"].value_counts()\n",
    "#print(count.sort_index().to_string())\n",
    "#print(count.sum())"
   ]
  },
  {
   "cell_type": "code",
   "execution_count": 13,
   "metadata": {},
   "outputs": [],
   "source": [
    "#rel_df=rel_df.drop(columns=['age_building'])"
   ]
  },
  {
   "cell_type": "code",
   "execution_count": 14,
   "metadata": {},
   "outputs": [],
   "source": [
    "#rel_df['net_rooms'] = rel_df.count_floors_post_eq - rel_df.count_floors_pre_eq\n",
    "#rel_df['net_height'] = rel_df.height_ft_post_eq - rel_df.height_ft_pre_eq"
   ]
  },
  {
   "cell_type": "code",
   "execution_count": 15,
   "metadata": {},
   "outputs": [],
   "source": [
    "#rel_df=rel_df[rel_df['age_building'] < 800]"
   ]
  },
  {
   "cell_type": "code",
   "execution_count": 16,
   "metadata": {},
   "outputs": [],
   "source": [
    "#len(rel_df)"
   ]
  },
  {
   "cell_type": "code",
   "execution_count": 17,
   "metadata": {},
   "outputs": [
    {
     "name": "stderr",
     "output_type": "stream",
     "text": [
      "C:\\Data\\Anaconda\\envs\\mlenv\\lib\\site-packages\\seaborn\\distributions.py:2619: FutureWarning: `distplot` is a deprecated function and will be removed in a future version. Please adapt your code to use either `displot` (a figure-level function with similar flexibility) or `histplot` (an axes-level function for histograms).\n",
      "  warnings.warn(msg, FutureWarning)\n"
     ]
    },
    {
     "data": {
      "text/plain": [
       "<AxesSubplot:xlabel='age_building', ylabel='Density'>"
      ]
     },
     "execution_count": 17,
     "metadata": {},
     "output_type": "execute_result"
    },
    {
     "data": {
      "image/png": "[encoded data removed]",
      "text/plain": [
       "<Figure size 864x576 with 1 Axes>"
      ]
     },
     "metadata": {
      "needs_background": "light"
     },
     "output_type": "display_data"
    }
   ],
   "source": [
    "plt.figure(figsize=(12,8))\n",
    "sns.distplot(rel_df['age_building'])"
   ]
  },
  {
   "cell_type": "code",
   "execution_count": 42,
   "metadata": {},
   "outputs": [
    {
     "data": {
      "text/plain": [
       "<AxesSubplot:xlabel='damage_grade', ylabel='age_building'>"
      ]
     },
     "execution_count": 42,
     "metadata": {},
     "output_type": "execute_result"
    },
    {
     "data": {
      "image/png": "[encoded data removed]",
      "text/plain": [
       "<Figure size 864x576 with 1 Axes>"
      ]
     },
     "metadata": {
      "needs_background": "light"
     },
     "output_type": "display_data"
    }
   ],
   "source": [
    "plt.figure(figsize=(12,8))\n",
    "sns.boxplot(x='damage_grade',y='age_building',data=df)"
   ]
  },
  {
   "cell_type": "code",
   "execution_count": 35,
   "metadata": {},
   "outputs": [
    {
     "data": {
      "text/plain": [
       "district_id                               0\n",
       "vdcmun_id                                 0\n",
       "damage_grade                              0\n",
       "count_floors_pre_eq                       0\n",
       "age_building                              0\n",
       "plinth_area_sq_ft                         0\n",
       "height_ft_pre_eq                          0\n",
       "land_surface_condition                    0\n",
       "foundation_type                           0\n",
       "roof_type                                 0\n",
       "ground_floor_type                         0\n",
       "other_floor_type                          0\n",
       "position                                  0\n",
       "plan_configuration                        0\n",
       "has_geotechnical_risk                     0\n",
       "has_superstructure_adobe_mud              0\n",
       "has_superstructure_mud_mortar_stone       0\n",
       "has_superstructure_stone_flag             0\n",
       "has_superstructure_cement_mortar_stone    0\n",
       "has_superstructure_mud_mortar_brick       0\n",
       "has_superstructure_cement_mortar_brick    0\n",
       "has_superstructure_timber                 0\n",
       "has_superstructure_bamboo                 0\n",
       "has_superstructure_rc_non_engineered      0\n",
       "has_superstructure_rc_engineered          0\n",
       "has_superstructure_other                  0\n",
       "condition_post_eq                         0\n",
       "dtype: int64"
      ]
     },
     "execution_count": 35,
     "metadata": {},
     "output_type": "execute_result"
    }
   ],
   "source": [
    "rel_df.isnull().sum()"
   ]
  },
  {
   "cell_type": "code",
   "execution_count": 49,
   "metadata": {},
   "outputs": [
    {
     "ename": "TypeError",
     "evalue": "Neither the `x` nor `y` variable appears to be numeric.",
     "output_type": "error",
     "traceback": [
      "\u001b[1;31m---------------------------------------------------------------------------\u001b[0m",
      "\u001b[1;31mTypeError\u001b[0m                                 Traceback (most recent call last)",
      "\u001b[1;32m~\\AppData\\Local\\Temp\\ipykernel_27744\\4201990518.py\u001b[0m in \u001b[0;36m<module>\u001b[1;34m\u001b[0m\n\u001b[0;32m      1\u001b[0m \u001b[1;31m#df.groupby('foundation_type').mean()['damage_grade']\u001b[0m\u001b[1;33m\u001b[0m\u001b[1;33m\u001b[0m\u001b[1;33m\u001b[0m\u001b[0m\n\u001b[0;32m      2\u001b[0m \u001b[0mplt\u001b[0m\u001b[1;33m.\u001b[0m\u001b[0mfigure\u001b[0m\u001b[1;33m(\u001b[0m\u001b[0mfigsize\u001b[0m\u001b[1;33m=\u001b[0m\u001b[1;33m(\u001b[0m\u001b[1;36m12\u001b[0m\u001b[1;33m,\u001b[0m\u001b[1;36m8\u001b[0m\u001b[1;33m)\u001b[0m\u001b[1;33m)\u001b[0m\u001b[1;33m\u001b[0m\u001b[1;33m\u001b[0m\u001b[0m\n\u001b[1;32m----> 3\u001b[1;33m \u001b[0msns\u001b[0m\u001b[1;33m.\u001b[0m\u001b[0mboxplot\u001b[0m\u001b[1;33m(\u001b[0m\u001b[0mx\u001b[0m\u001b[1;33m=\u001b[0m\u001b[1;34m'foundation_type'\u001b[0m\u001b[1;33m,\u001b[0m\u001b[0my\u001b[0m\u001b[1;33m=\u001b[0m\u001b[1;34m'damage_grade'\u001b[0m\u001b[1;33m,\u001b[0m\u001b[0mdata\u001b[0m\u001b[1;33m=\u001b[0m\u001b[0mdf\u001b[0m\u001b[1;33m)\u001b[0m\u001b[1;33m\u001b[0m\u001b[1;33m\u001b[0m\u001b[0m\n\u001b[0m",
      "\u001b[1;32mC:\\Data\\Anaconda\\envs\\mlenv\\lib\\site-packages\\seaborn\\_decorators.py\u001b[0m in \u001b[0;36minner_f\u001b[1;34m(*args, **kwargs)\u001b[0m\n\u001b[0;32m     44\u001b[0m             )\n\u001b[0;32m     45\u001b[0m         \u001b[0mkwargs\u001b[0m\u001b[1;33m.\u001b[0m\u001b[0mupdate\u001b[0m\u001b[1;33m(\u001b[0m\u001b[1;33m{\u001b[0m\u001b[0mk\u001b[0m\u001b[1;33m:\u001b[0m \u001b[0marg\u001b[0m \u001b[1;32mfor\u001b[0m \u001b[0mk\u001b[0m\u001b[1;33m,\u001b[0m \u001b[0marg\u001b[0m \u001b[1;32min\u001b[0m \u001b[0mzip\u001b[0m\u001b[1;33m(\u001b[0m\u001b[0msig\u001b[0m\u001b[1;33m.\u001b[0m\u001b[0mparameters\u001b[0m\u001b[1;33m,\u001b[0m \u001b[0margs\u001b[0m\u001b[1;33m)\u001b[0m\u001b[1;33m}\u001b[0m\u001b[1;33m)\u001b[0m\u001b[1;33m\u001b[0m\u001b[1;33m\u001b[0m\u001b[0m\n\u001b[1;32m---> 46\u001b[1;33m         \u001b[1;32mreturn\u001b[0m \u001b[0mf\u001b[0m\u001b[1;33m(\u001b[0m\u001b[1;33m**\u001b[0m\u001b[0mkwargs\u001b[0m\u001b[1;33m)\u001b[0m\u001b[1;33m\u001b[0m\u001b[1;33m\u001b[0m\u001b[0m\n\u001b[0m\u001b[0;32m     47\u001b[0m     \u001b[1;32mreturn\u001b[0m \u001b[0minner_f\u001b[0m\u001b[1;33m\u001b[0m\u001b[1;33m\u001b[0m\u001b[0m\n\u001b[0;32m     48\u001b[0m \u001b[1;33m\u001b[0m\u001b[0m\n",
      "\u001b[1;32mC:\\Data\\Anaconda\\envs\\mlenv\\lib\\site-packages\\seaborn\\categorical.py\u001b[0m in \u001b[0;36mboxplot\u001b[1;34m(x, y, hue, data, order, hue_order, orient, color, palette, saturation, width, dodge, fliersize, linewidth, whis, ax, **kwargs)\u001b[0m\n\u001b[0;32m   2243\u001b[0m     plotter = _BoxPlotter(x, y, hue, data, order, hue_order,\n\u001b[0;32m   2244\u001b[0m                           \u001b[0morient\u001b[0m\u001b[1;33m,\u001b[0m \u001b[0mcolor\u001b[0m\u001b[1;33m,\u001b[0m \u001b[0mpalette\u001b[0m\u001b[1;33m,\u001b[0m \u001b[0msaturation\u001b[0m\u001b[1;33m,\u001b[0m\u001b[1;33m\u001b[0m\u001b[1;33m\u001b[0m\u001b[0m\n\u001b[1;32m-> 2245\u001b[1;33m                           width, dodge, fliersize, linewidth)\n\u001b[0m\u001b[0;32m   2246\u001b[0m \u001b[1;33m\u001b[0m\u001b[0m\n\u001b[0;32m   2247\u001b[0m     \u001b[1;32mif\u001b[0m \u001b[0max\u001b[0m \u001b[1;32mis\u001b[0m \u001b[1;32mNone\u001b[0m\u001b[1;33m:\u001b[0m\u001b[1;33m\u001b[0m\u001b[1;33m\u001b[0m\u001b[0m\n",
      "\u001b[1;32mC:\\Data\\Anaconda\\envs\\mlenv\\lib\\site-packages\\seaborn\\categorical.py\u001b[0m in \u001b[0;36m__init__\u001b[1;34m(self, x, y, hue, data, order, hue_order, orient, color, palette, saturation, width, dodge, fliersize, linewidth)\u001b[0m\n\u001b[0;32m    404\u001b[0m                  width, dodge, fliersize, linewidth):\n\u001b[0;32m    405\u001b[0m \u001b[1;33m\u001b[0m\u001b[0m\n\u001b[1;32m--> 406\u001b[1;33m         \u001b[0mself\u001b[0m\u001b[1;33m.\u001b[0m\u001b[0mestablish_variables\u001b[0m\u001b[1;33m(\u001b[0m\u001b[0mx\u001b[0m\u001b[1;33m,\u001b[0m \u001b[0my\u001b[0m\u001b[1;33m,\u001b[0m \u001b[0mhue\u001b[0m\u001b[1;33m,\u001b[0m \u001b[0mdata\u001b[0m\u001b[1;33m,\u001b[0m \u001b[0morient\u001b[0m\u001b[1;33m,\u001b[0m \u001b[0morder\u001b[0m\u001b[1;33m,\u001b[0m \u001b[0mhue_order\u001b[0m\u001b[1;33m)\u001b[0m\u001b[1;33m\u001b[0m\u001b[1;33m\u001b[0m\u001b[0m\n\u001b[0m\u001b[0;32m    407\u001b[0m         \u001b[0mself\u001b[0m\u001b[1;33m.\u001b[0m\u001b[0mestablish_colors\u001b[0m\u001b[1;33m(\u001b[0m\u001b[0mcolor\u001b[0m\u001b[1;33m,\u001b[0m \u001b[0mpalette\u001b[0m\u001b[1;33m,\u001b[0m \u001b[0msaturation\u001b[0m\u001b[1;33m)\u001b[0m\u001b[1;33m\u001b[0m\u001b[1;33m\u001b[0m\u001b[0m\n\u001b[0;32m    408\u001b[0m \u001b[1;33m\u001b[0m\u001b[0m\n",
      "\u001b[1;32mC:\\Data\\Anaconda\\envs\\mlenv\\lib\\site-packages\\seaborn\\categorical.py\u001b[0m in \u001b[0;36mestablish_variables\u001b[1;34m(self, x, y, hue, data, orient, order, hue_order, units)\u001b[0m\n\u001b[0;32m    155\u001b[0m             \u001b[1;31m# Figure out the plotting orientation\u001b[0m\u001b[1;33m\u001b[0m\u001b[1;33m\u001b[0m\u001b[1;33m\u001b[0m\u001b[0m\n\u001b[0;32m    156\u001b[0m             orient = infer_orient(\n\u001b[1;32m--> 157\u001b[1;33m                 \u001b[0mx\u001b[0m\u001b[1;33m,\u001b[0m \u001b[0my\u001b[0m\u001b[1;33m,\u001b[0m \u001b[0morient\u001b[0m\u001b[1;33m,\u001b[0m \u001b[0mrequire_numeric\u001b[0m\u001b[1;33m=\u001b[0m\u001b[0mself\u001b[0m\u001b[1;33m.\u001b[0m\u001b[0mrequire_numeric\u001b[0m\u001b[1;33m\u001b[0m\u001b[1;33m\u001b[0m\u001b[0m\n\u001b[0m\u001b[0;32m    158\u001b[0m             )\n\u001b[0;32m    159\u001b[0m \u001b[1;33m\u001b[0m\u001b[0m\n",
      "\u001b[1;32mC:\\Data\\Anaconda\\envs\\mlenv\\lib\\site-packages\\seaborn\\_core.py\u001b[0m in \u001b[0;36minfer_orient\u001b[1;34m(x, y, orient, require_numeric)\u001b[0m\n\u001b[0;32m   1350\u001b[0m     \u001b[1;32melif\u001b[0m \u001b[0mrequire_numeric\u001b[0m \u001b[1;32mand\u001b[0m \u001b[1;34m\"numeric\"\u001b[0m \u001b[1;32mnot\u001b[0m \u001b[1;32min\u001b[0m \u001b[1;33m(\u001b[0m\u001b[0mx_type\u001b[0m\u001b[1;33m,\u001b[0m \u001b[0my_type\u001b[0m\u001b[1;33m)\u001b[0m\u001b[1;33m:\u001b[0m\u001b[1;33m\u001b[0m\u001b[1;33m\u001b[0m\u001b[0m\n\u001b[0;32m   1351\u001b[0m         \u001b[0merr\u001b[0m \u001b[1;33m=\u001b[0m \u001b[1;34m\"Neither the `x` nor `y` variable appears to be numeric.\"\u001b[0m\u001b[1;33m\u001b[0m\u001b[1;33m\u001b[0m\u001b[0m\n\u001b[1;32m-> 1352\u001b[1;33m         \u001b[1;32mraise\u001b[0m \u001b[0mTypeError\u001b[0m\u001b[1;33m(\u001b[0m\u001b[0merr\u001b[0m\u001b[1;33m)\u001b[0m\u001b[1;33m\u001b[0m\u001b[1;33m\u001b[0m\u001b[0m\n\u001b[0m\u001b[0;32m   1353\u001b[0m \u001b[1;33m\u001b[0m\u001b[0m\n\u001b[0;32m   1354\u001b[0m     \u001b[1;32melse\u001b[0m\u001b[1;33m:\u001b[0m\u001b[1;33m\u001b[0m\u001b[1;33m\u001b[0m\u001b[0m\n",
      "\u001b[1;31mTypeError\u001b[0m: Neither the `x` nor `y` variable appears to be numeric."
     ]
    },
    {
     "data": {
      "text/plain": [
       "<Figure size 864x576 with 0 Axes>"
      ]
     },
     "metadata": {},
     "output_type": "display_data"
    }
   ],
   "source": [
    "#df.groupby('foundation_type').mean()['damage_grade']\n",
    "plt.figure(figsize=(12,8))\n",
    "sns.boxplot(x='foundation_type',y='damage_grade',data=df)"
   ]
  },
  {
   "cell_type": "code",
   "execution_count": 19,
   "metadata": {},
   "outputs": [],
   "source": []
  },
  {
   "cell_type": "code",
   "execution_count": null,
   "metadata": {},
   "outputs": [],
   "source": []
  },
  {
   "cell_type": "code",
   "execution_count": 36,
   "metadata": {},
   "outputs": [
    {
     "data": {
      "text/html": [
       "<div>\n",
       "<style scoped>\n",
       "    .dataframe tbody tr th:only-of-type {\n",
       "        vertical-align: middle;\n",
       "    }\n",
       "\n",
       "    .dataframe tbody tr th {\n",
       "        vertical-align: top;\n",
       "    }\n",
       "\n",
       "    .dataframe thead th {\n",
       "        text-align: right;\n",
       "    }\n",
       "</style>\n",
       "<table border=\"1\" class=\"dataframe\">\n",
       "  <thead>\n",
       "    <tr style=\"text-align: right;\">\n",
       "      <th></th>\n",
       "      <th>count</th>\n",
       "      <th>mean</th>\n",
       "      <th>std</th>\n",
       "      <th>min</th>\n",
       "      <th>25%</th>\n",
       "      <th>50%</th>\n",
       "      <th>75%</th>\n",
       "      <th>max</th>\n",
       "    </tr>\n",
       "  </thead>\n",
       "  <tbody>\n",
       "    <tr>\n",
       "      <th>district_id</th>\n",
       "      <td>762094.0</td>\n",
       "      <td>25.767912</td>\n",
       "      <td>5.807569</td>\n",
       "      <td>12.0</td>\n",
       "      <td>22.0</td>\n",
       "      <td>24.0</td>\n",
       "      <td>30.0</td>\n",
       "      <td>36.0</td>\n",
       "    </tr>\n",
       "    <tr>\n",
       "      <th>vdcmun_id</th>\n",
       "      <td>762094.0</td>\n",
       "      <td>2582.695976</td>\n",
       "      <td>581.174161</td>\n",
       "      <td>1201.0</td>\n",
       "      <td>2204.0</td>\n",
       "      <td>2410.0</td>\n",
       "      <td>3010.0</td>\n",
       "      <td>3611.0</td>\n",
       "    </tr>\n",
       "    <tr>\n",
       "      <th>damage_grade</th>\n",
       "      <td>762094.0</td>\n",
       "      <td>3.643607</td>\n",
       "      <td>1.342606</td>\n",
       "      <td>1.0</td>\n",
       "      <td>3.0</td>\n",
       "      <td>4.0</td>\n",
       "      <td>5.0</td>\n",
       "      <td>5.0</td>\n",
       "    </tr>\n",
       "    <tr>\n",
       "      <th>count_floors_pre_eq</th>\n",
       "      <td>762094.0</td>\n",
       "      <td>2.087787</td>\n",
       "      <td>0.655104</td>\n",
       "      <td>1.0</td>\n",
       "      <td>2.0</td>\n",
       "      <td>2.0</td>\n",
       "      <td>2.0</td>\n",
       "      <td>9.0</td>\n",
       "    </tr>\n",
       "    <tr>\n",
       "      <th>age_building</th>\n",
       "      <td>762094.0</td>\n",
       "      <td>24.325031</td>\n",
       "      <td>65.034555</td>\n",
       "      <td>0.0</td>\n",
       "      <td>9.0</td>\n",
       "      <td>16.0</td>\n",
       "      <td>27.0</td>\n",
       "      <td>999.0</td>\n",
       "    </tr>\n",
       "    <tr>\n",
       "      <th>plinth_area_sq_ft</th>\n",
       "      <td>762094.0</td>\n",
       "      <td>406.673668</td>\n",
       "      <td>226.780437</td>\n",
       "      <td>70.0</td>\n",
       "      <td>280.0</td>\n",
       "      <td>358.0</td>\n",
       "      <td>470.0</td>\n",
       "      <td>5000.0</td>\n",
       "    </tr>\n",
       "    <tr>\n",
       "      <th>height_ft_pre_eq</th>\n",
       "      <td>762094.0</td>\n",
       "      <td>16.049424</td>\n",
       "      <td>5.493900</td>\n",
       "      <td>6.0</td>\n",
       "      <td>12.0</td>\n",
       "      <td>16.0</td>\n",
       "      <td>18.0</td>\n",
       "      <td>99.0</td>\n",
       "    </tr>\n",
       "    <tr>\n",
       "      <th>has_geotechnical_risk</th>\n",
       "      <td>762094.0</td>\n",
       "      <td>0.143876</td>\n",
       "      <td>0.350964</td>\n",
       "      <td>0.0</td>\n",
       "      <td>0.0</td>\n",
       "      <td>0.0</td>\n",
       "      <td>0.0</td>\n",
       "      <td>1.0</td>\n",
       "    </tr>\n",
       "    <tr>\n",
       "      <th>has_superstructure_adobe_mud</th>\n",
       "      <td>762094.0</td>\n",
       "      <td>0.042402</td>\n",
       "      <td>0.201504</td>\n",
       "      <td>0.0</td>\n",
       "      <td>0.0</td>\n",
       "      <td>0.0</td>\n",
       "      <td>0.0</td>\n",
       "      <td>1.0</td>\n",
       "    </tr>\n",
       "    <tr>\n",
       "      <th>has_superstructure_mud_mortar_stone</th>\n",
       "      <td>762094.0</td>\n",
       "      <td>0.800269</td>\n",
       "      <td>0.399799</td>\n",
       "      <td>0.0</td>\n",
       "      <td>1.0</td>\n",
       "      <td>1.0</td>\n",
       "      <td>1.0</td>\n",
       "      <td>1.0</td>\n",
       "    </tr>\n",
       "    <tr>\n",
       "      <th>has_superstructure_stone_flag</th>\n",
       "      <td>762094.0</td>\n",
       "      <td>0.035122</td>\n",
       "      <td>0.184087</td>\n",
       "      <td>0.0</td>\n",
       "      <td>0.0</td>\n",
       "      <td>0.0</td>\n",
       "      <td>0.0</td>\n",
       "      <td>1.0</td>\n",
       "    </tr>\n",
       "    <tr>\n",
       "      <th>has_superstructure_cement_mortar_stone</th>\n",
       "      <td>762094.0</td>\n",
       "      <td>0.015816</td>\n",
       "      <td>0.124762</td>\n",
       "      <td>0.0</td>\n",
       "      <td>0.0</td>\n",
       "      <td>0.0</td>\n",
       "      <td>0.0</td>\n",
       "      <td>1.0</td>\n",
       "    </tr>\n",
       "    <tr>\n",
       "      <th>has_superstructure_mud_mortar_brick</th>\n",
       "      <td>762094.0</td>\n",
       "      <td>0.022962</td>\n",
       "      <td>0.149782</td>\n",
       "      <td>0.0</td>\n",
       "      <td>0.0</td>\n",
       "      <td>0.0</td>\n",
       "      <td>0.0</td>\n",
       "      <td>1.0</td>\n",
       "    </tr>\n",
       "    <tr>\n",
       "      <th>has_superstructure_cement_mortar_brick</th>\n",
       "      <td>762094.0</td>\n",
       "      <td>0.071527</td>\n",
       "      <td>0.257703</td>\n",
       "      <td>0.0</td>\n",
       "      <td>0.0</td>\n",
       "      <td>0.0</td>\n",
       "      <td>0.0</td>\n",
       "      <td>1.0</td>\n",
       "    </tr>\n",
       "    <tr>\n",
       "      <th>has_superstructure_timber</th>\n",
       "      <td>762094.0</td>\n",
       "      <td>0.258770</td>\n",
       "      <td>0.437959</td>\n",
       "      <td>0.0</td>\n",
       "      <td>0.0</td>\n",
       "      <td>0.0</td>\n",
       "      <td>1.0</td>\n",
       "      <td>1.0</td>\n",
       "    </tr>\n",
       "    <tr>\n",
       "      <th>has_superstructure_bamboo</th>\n",
       "      <td>762094.0</td>\n",
       "      <td>0.080484</td>\n",
       "      <td>0.272040</td>\n",
       "      <td>0.0</td>\n",
       "      <td>0.0</td>\n",
       "      <td>0.0</td>\n",
       "      <td>0.0</td>\n",
       "      <td>1.0</td>\n",
       "    </tr>\n",
       "    <tr>\n",
       "      <th>has_superstructure_rc_non_engineered</th>\n",
       "      <td>762094.0</td>\n",
       "      <td>0.039794</td>\n",
       "      <td>0.195476</td>\n",
       "      <td>0.0</td>\n",
       "      <td>0.0</td>\n",
       "      <td>0.0</td>\n",
       "      <td>0.0</td>\n",
       "      <td>1.0</td>\n",
       "    </tr>\n",
       "    <tr>\n",
       "      <th>has_superstructure_rc_engineered</th>\n",
       "      <td>762094.0</td>\n",
       "      <td>0.016386</td>\n",
       "      <td>0.126956</td>\n",
       "      <td>0.0</td>\n",
       "      <td>0.0</td>\n",
       "      <td>0.0</td>\n",
       "      <td>0.0</td>\n",
       "      <td>1.0</td>\n",
       "    </tr>\n",
       "    <tr>\n",
       "      <th>has_superstructure_other</th>\n",
       "      <td>762094.0</td>\n",
       "      <td>0.012026</td>\n",
       "      <td>0.109002</td>\n",
       "      <td>0.0</td>\n",
       "      <td>0.0</td>\n",
       "      <td>0.0</td>\n",
       "      <td>0.0</td>\n",
       "      <td>1.0</td>\n",
       "    </tr>\n",
       "  </tbody>\n",
       "</table>\n",
       "</div>"
      ],
      "text/plain": [
       "                                           count         mean         std  \\\n",
       "district_id                             762094.0    25.767912    5.807569   \n",
       "vdcmun_id                               762094.0  2582.695976  581.174161   \n",
       "damage_grade                            762094.0     3.643607    1.342606   \n",
       "count_floors_pre_eq                     762094.0     2.087787    0.655104   \n",
       "age_building                            762094.0    24.325031   65.034555   \n",
       "plinth_area_sq_ft                       762094.0   406.673668  226.780437   \n",
       "height_ft_pre_eq                        762094.0    16.049424    5.493900   \n",
       "has_geotechnical_risk                   762094.0     0.143876    0.350964   \n",
       "has_superstructure_adobe_mud            762094.0     0.042402    0.201504   \n",
       "has_superstructure_mud_mortar_stone     762094.0     0.800269    0.399799   \n",
       "has_superstructure_stone_flag           762094.0     0.035122    0.184087   \n",
       "has_superstructure_cement_mortar_stone  762094.0     0.015816    0.124762   \n",
       "has_superstructure_mud_mortar_brick     762094.0     0.022962    0.149782   \n",
       "has_superstructure_cement_mortar_brick  762094.0     0.071527    0.257703   \n",
       "has_superstructure_timber               762094.0     0.258770    0.437959   \n",
       "has_superstructure_bamboo               762094.0     0.080484    0.272040   \n",
       "has_superstructure_rc_non_engineered    762094.0     0.039794    0.195476   \n",
       "has_superstructure_rc_engineered        762094.0     0.016386    0.126956   \n",
       "has_superstructure_other                762094.0     0.012026    0.109002   \n",
       "\n",
       "                                           min     25%     50%     75%     max  \n",
       "district_id                               12.0    22.0    24.0    30.0    36.0  \n",
       "vdcmun_id                               1201.0  2204.0  2410.0  3010.0  3611.0  \n",
       "damage_grade                               1.0     3.0     4.0     5.0     5.0  \n",
       "count_floors_pre_eq                        1.0     2.0     2.0     2.0     9.0  \n",
       "age_building                               0.0     9.0    16.0    27.0   999.0  \n",
       "plinth_area_sq_ft                         70.0   280.0   358.0   470.0  5000.0  \n",
       "height_ft_pre_eq                           6.0    12.0    16.0    18.0    99.0  \n",
       "has_geotechnical_risk                      0.0     0.0     0.0     0.0     1.0  \n",
       "has_superstructure_adobe_mud               0.0     0.0     0.0     0.0     1.0  \n",
       "has_superstructure_mud_mortar_stone        0.0     1.0     1.0     1.0     1.0  \n",
       "has_superstructure_stone_flag              0.0     0.0     0.0     0.0     1.0  \n",
       "has_superstructure_cement_mortar_stone     0.0     0.0     0.0     0.0     1.0  \n",
       "has_superstructure_mud_mortar_brick        0.0     0.0     0.0     0.0     1.0  \n",
       "has_superstructure_cement_mortar_brick     0.0     0.0     0.0     0.0     1.0  \n",
       "has_superstructure_timber                  0.0     0.0     0.0     1.0     1.0  \n",
       "has_superstructure_bamboo                  0.0     0.0     0.0     0.0     1.0  \n",
       "has_superstructure_rc_non_engineered       0.0     0.0     0.0     0.0     1.0  \n",
       "has_superstructure_rc_engineered           0.0     0.0     0.0     0.0     1.0  \n",
       "has_superstructure_other                   0.0     0.0     0.0     0.0     1.0  "
      ]
     },
     "execution_count": 36,
     "metadata": {},
     "output_type": "execute_result"
    }
   ],
   "source": [
    "rel_df.describe().transpose()"
   ]
  },
  {
   "cell_type": "code",
   "execution_count": 37,
   "metadata": {},
   "outputs": [
    {
     "data": {
      "text/plain": [
       "district_id                                 int64\n",
       "vdcmun_id                                   int64\n",
       "damage_grade                              float64\n",
       "count_floors_pre_eq                       float64\n",
       "age_building                              float64\n",
       "plinth_area_sq_ft                         float64\n",
       "height_ft_pre_eq                          float64\n",
       "land_surface_condition                     object\n",
       "foundation_type                            object\n",
       "roof_type                                  object\n",
       "ground_floor_type                          object\n",
       "other_floor_type                           object\n",
       "position                                   object\n",
       "plan_configuration                         object\n",
       "has_geotechnical_risk                     float64\n",
       "has_superstructure_adobe_mud              float64\n",
       "has_superstructure_mud_mortar_stone       float64\n",
       "has_superstructure_stone_flag             float64\n",
       "has_superstructure_cement_mortar_stone    float64\n",
       "has_superstructure_mud_mortar_brick       float64\n",
       "has_superstructure_cement_mortar_brick    float64\n",
       "has_superstructure_timber                 float64\n",
       "has_superstructure_bamboo                 float64\n",
       "has_superstructure_rc_non_engineered      float64\n",
       "has_superstructure_rc_engineered          float64\n",
       "has_superstructure_other                  float64\n",
       "condition_post_eq                          object\n",
       "dtype: object"
      ]
     },
     "execution_count": 37,
     "metadata": {},
     "output_type": "execute_result"
    }
   ],
   "source": [
    "rel_df.dtypes"
   ]
  },
  {
   "cell_type": "code",
   "execution_count": null,
   "metadata": {},
   "outputs": [],
   "source": []
  },
  {
   "cell_type": "code",
   "execution_count": 24,
   "metadata": {},
   "outputs": [],
   "source": [
    "#bins=np.arange(-5,100,10)\n",
    "#bins=np.append(bins,30000)\n",
    "#labels=np.arange(-5,100,10)\n",
    "#rel_df[\"age_binned\"]=pd.cut(rel_df['age_building'], bins=bins,labels=labels)"
   ]
  },
  {
   "cell_type": "code",
   "execution_count": 25,
   "metadata": {},
   "outputs": [],
   "source": [
    "#age_count=rel_df[\"age_binned\"].value_counts()\n",
    "#print(age_count.sort_index().to_string())\n",
    "#print(age_count.sum())"
   ]
  },
  {
   "cell_type": "code",
   "execution_count": 39,
   "metadata": {},
   "outputs": [
    {
     "data": {
      "text/html": [
       "<div>\n",
       "<style scoped>\n",
       "    .dataframe tbody tr th:only-of-type {\n",
       "        vertical-align: middle;\n",
       "    }\n",
       "\n",
       "    .dataframe tbody tr th {\n",
       "        vertical-align: top;\n",
       "    }\n",
       "\n",
       "    .dataframe thead th {\n",
       "        text-align: right;\n",
       "    }\n",
       "</style>\n",
       "<table border=\"1\" class=\"dataframe\">\n",
       "  <thead>\n",
       "    <tr style=\"text-align: right;\">\n",
       "      <th></th>\n",
       "      <th>district_id</th>\n",
       "      <th>vdcmun_id</th>\n",
       "      <th>damage_grade</th>\n",
       "      <th>count_floors_pre_eq</th>\n",
       "      <th>age_building</th>\n",
       "      <th>plinth_area_sq_ft</th>\n",
       "      <th>height_ft_pre_eq</th>\n",
       "      <th>land_surface_condition</th>\n",
       "      <th>foundation_type</th>\n",
       "      <th>roof_type</th>\n",
       "      <th>...</th>\n",
       "      <th>has_superstructure_stone_flag</th>\n",
       "      <th>has_superstructure_cement_mortar_stone</th>\n",
       "      <th>has_superstructure_mud_mortar_brick</th>\n",
       "      <th>has_superstructure_cement_mortar_brick</th>\n",
       "      <th>has_superstructure_timber</th>\n",
       "      <th>has_superstructure_bamboo</th>\n",
       "      <th>has_superstructure_rc_non_engineered</th>\n",
       "      <th>has_superstructure_rc_engineered</th>\n",
       "      <th>has_superstructure_other</th>\n",
       "      <th>condition_post_eq</th>\n",
       "    </tr>\n",
       "  </thead>\n",
       "  <tbody>\n",
       "    <tr>\n",
       "      <th>0</th>\n",
       "      <td>12</td>\n",
       "      <td>1205</td>\n",
       "      <td>4.0</td>\n",
       "      <td>2.0</td>\n",
       "      <td>25.0</td>\n",
       "      <td>356.0</td>\n",
       "      <td>14.0</td>\n",
       "      <td>Flat</td>\n",
       "      <td>Mud mortar-Stone/Brick</td>\n",
       "      <td>Bamboo/Timber-Light roof</td>\n",
       "      <td>...</td>\n",
       "      <td>0.0</td>\n",
       "      <td>0.0</td>\n",
       "      <td>0.0</td>\n",
       "      <td>0.0</td>\n",
       "      <td>0.0</td>\n",
       "      <td>0.0</td>\n",
       "      <td>0.0</td>\n",
       "      <td>0.0</td>\n",
       "      <td>0.0</td>\n",
       "      <td>Damaged-Not used</td>\n",
       "    </tr>\n",
       "    <tr>\n",
       "      <th>1</th>\n",
       "      <td>12</td>\n",
       "      <td>1207</td>\n",
       "      <td>4.0</td>\n",
       "      <td>2.0</td>\n",
       "      <td>30.0</td>\n",
       "      <td>275.0</td>\n",
       "      <td>12.0</td>\n",
       "      <td>Flat</td>\n",
       "      <td>Mud mortar-Stone/Brick</td>\n",
       "      <td>Bamboo/Timber-Light roof</td>\n",
       "      <td>...</td>\n",
       "      <td>0.0</td>\n",
       "      <td>0.0</td>\n",
       "      <td>0.0</td>\n",
       "      <td>0.0</td>\n",
       "      <td>0.0</td>\n",
       "      <td>0.0</td>\n",
       "      <td>0.0</td>\n",
       "      <td>0.0</td>\n",
       "      <td>0.0</td>\n",
       "      <td>Damaged-Not used</td>\n",
       "    </tr>\n",
       "    <tr>\n",
       "      <th>2</th>\n",
       "      <td>12</td>\n",
       "      <td>1208</td>\n",
       "      <td>4.0</td>\n",
       "      <td>2.0</td>\n",
       "      <td>20.0</td>\n",
       "      <td>450.0</td>\n",
       "      <td>18.0</td>\n",
       "      <td>Flat</td>\n",
       "      <td>Mud mortar-Stone/Brick</td>\n",
       "      <td>Bamboo/Timber-Light roof</td>\n",
       "      <td>...</td>\n",
       "      <td>0.0</td>\n",
       "      <td>0.0</td>\n",
       "      <td>0.0</td>\n",
       "      <td>0.0</td>\n",
       "      <td>0.0</td>\n",
       "      <td>0.0</td>\n",
       "      <td>0.0</td>\n",
       "      <td>0.0</td>\n",
       "      <td>0.0</td>\n",
       "      <td>Damaged-Not used</td>\n",
       "    </tr>\n",
       "    <tr>\n",
       "      <th>3</th>\n",
       "      <td>12</td>\n",
       "      <td>1201</td>\n",
       "      <td>4.0</td>\n",
       "      <td>2.0</td>\n",
       "      <td>12.0</td>\n",
       "      <td>240.0</td>\n",
       "      <td>8.0</td>\n",
       "      <td>Flat</td>\n",
       "      <td>Mud mortar-Stone/Brick</td>\n",
       "      <td>Bamboo/Timber-Light roof</td>\n",
       "      <td>...</td>\n",
       "      <td>0.0</td>\n",
       "      <td>0.0</td>\n",
       "      <td>0.0</td>\n",
       "      <td>0.0</td>\n",
       "      <td>1.0</td>\n",
       "      <td>1.0</td>\n",
       "      <td>0.0</td>\n",
       "      <td>0.0</td>\n",
       "      <td>0.0</td>\n",
       "      <td>Damaged-Not used</td>\n",
       "    </tr>\n",
       "    <tr>\n",
       "      <th>4</th>\n",
       "      <td>12</td>\n",
       "      <td>1201</td>\n",
       "      <td>4.0</td>\n",
       "      <td>2.0</td>\n",
       "      <td>20.0</td>\n",
       "      <td>300.0</td>\n",
       "      <td>12.0</td>\n",
       "      <td>Flat</td>\n",
       "      <td>Mud mortar-Stone/Brick</td>\n",
       "      <td>Bamboo/Timber-Light roof</td>\n",
       "      <td>...</td>\n",
       "      <td>0.0</td>\n",
       "      <td>0.0</td>\n",
       "      <td>0.0</td>\n",
       "      <td>0.0</td>\n",
       "      <td>0.0</td>\n",
       "      <td>0.0</td>\n",
       "      <td>0.0</td>\n",
       "      <td>0.0</td>\n",
       "      <td>0.0</td>\n",
       "      <td>Damaged-Used in risk</td>\n",
       "    </tr>\n",
       "  </tbody>\n",
       "</table>\n",
       "<p>5 rows × 27 columns</p>\n",
       "</div>"
      ],
      "text/plain": [
       "   district_id  vdcmun_id  damage_grade  count_floors_pre_eq  age_building  \\\n",
       "0           12       1205           4.0                  2.0          25.0   \n",
       "1           12       1207           4.0                  2.0          30.0   \n",
       "2           12       1208           4.0                  2.0          20.0   \n",
       "3           12       1201           4.0                  2.0          12.0   \n",
       "4           12       1201           4.0                  2.0          20.0   \n",
       "\n",
       "   plinth_area_sq_ft  height_ft_pre_eq land_surface_condition  \\\n",
       "0              356.0              14.0                   Flat   \n",
       "1              275.0              12.0                   Flat   \n",
       "2              450.0              18.0                   Flat   \n",
       "3              240.0               8.0                   Flat   \n",
       "4              300.0              12.0                   Flat   \n",
       "\n",
       "          foundation_type                 roof_type  ...  \\\n",
       "0  Mud mortar-Stone/Brick  Bamboo/Timber-Light roof  ...   \n",
       "1  Mud mortar-Stone/Brick  Bamboo/Timber-Light roof  ...   \n",
       "2  Mud mortar-Stone/Brick  Bamboo/Timber-Light roof  ...   \n",
       "3  Mud mortar-Stone/Brick  Bamboo/Timber-Light roof  ...   \n",
       "4  Mud mortar-Stone/Brick  Bamboo/Timber-Light roof  ...   \n",
       "\n",
       "  has_superstructure_stone_flag has_superstructure_cement_mortar_stone  \\\n",
       "0                           0.0                                    0.0   \n",
       "1                           0.0                                    0.0   \n",
       "2                           0.0                                    0.0   \n",
       "3                           0.0                                    0.0   \n",
       "4                           0.0                                    0.0   \n",
       "\n",
       "  has_superstructure_mud_mortar_brick has_superstructure_cement_mortar_brick  \\\n",
       "0                                 0.0                                    0.0   \n",
       "1                                 0.0                                    0.0   \n",
       "2                                 0.0                                    0.0   \n",
       "3                                 0.0                                    0.0   \n",
       "4                                 0.0                                    0.0   \n",
       "\n",
       "   has_superstructure_timber  has_superstructure_bamboo  \\\n",
       "0                        0.0                        0.0   \n",
       "1                        0.0                        0.0   \n",
       "2                        0.0                        0.0   \n",
       "3                        1.0                        1.0   \n",
       "4                        0.0                        0.0   \n",
       "\n",
       "   has_superstructure_rc_non_engineered  has_superstructure_rc_engineered  \\\n",
       "0                                   0.0                               0.0   \n",
       "1                                   0.0                               0.0   \n",
       "2                                   0.0                               0.0   \n",
       "3                                   0.0                               0.0   \n",
       "4                                   0.0                               0.0   \n",
       "\n",
       "   has_superstructure_other     condition_post_eq  \n",
       "0                       0.0      Damaged-Not used  \n",
       "1                       0.0      Damaged-Not used  \n",
       "2                       0.0      Damaged-Not used  \n",
       "3                       0.0      Damaged-Not used  \n",
       "4                       0.0  Damaged-Used in risk  \n",
       "\n",
       "[5 rows x 27 columns]"
      ]
     },
     "execution_count": 39,
     "metadata": {},
     "output_type": "execute_result"
    }
   ],
   "source": [
    "#rel_df=rel_df.drop(columns=['age_building'])\n",
    "rel_df.head()"
   ]
  },
  {
   "cell_type": "code",
   "execution_count": 27,
   "metadata": {},
   "outputs": [
    {
     "data": {
      "text/plain": [
       "district_id                                 int64\n",
       "vdcmun_id                                   int64\n",
       "damage_grade                              float64\n",
       "count_floors_pre_eq                       float64\n",
       "age_building                              float64\n",
       "plinth_area_sq_ft                         float64\n",
       "height_ft_pre_eq                          float64\n",
       "land_surface_condition                     object\n",
       "foundation_type                            object\n",
       "roof_type                                  object\n",
       "ground_floor_type                          object\n",
       "other_floor_type                           object\n",
       "position                                   object\n",
       "plan_configuration                         object\n",
       "has_superstructure_adobe_mud              float64\n",
       "has_superstructure_mud_mortar_stone       float64\n",
       "has_superstructure_stone_flag             float64\n",
       "has_superstructure_cement_mortar_stone    float64\n",
       "has_superstructure_mud_mortar_brick       float64\n",
       "has_superstructure_cement_mortar_brick    float64\n",
       "has_superstructure_timber                 float64\n",
       "has_superstructure_bamboo                 float64\n",
       "has_superstructure_rc_non_engineered      float64\n",
       "has_superstructure_rc_engineered          float64\n",
       "has_superstructure_other                  float64\n",
       "condition_post_eq                          object\n",
       "dtype: object"
      ]
     },
     "execution_count": 27,
     "metadata": {},
     "output_type": "execute_result"
    }
   ],
   "source": [
    "rel_df.dtypes"
   ]
  },
  {
   "cell_type": "code",
   "execution_count": 28,
   "metadata": {},
   "outputs": [
    {
     "data": {
      "text/plain": [
       "['land_surface_condition',\n",
       " 'foundation_type',\n",
       " 'roof_type',\n",
       " 'ground_floor_type',\n",
       " 'other_floor_type',\n",
       " 'position',\n",
       " 'plan_configuration',\n",
       " 'condition_post_eq']"
      ]
     },
     "execution_count": 28,
     "metadata": {},
     "output_type": "execute_result"
    }
   ],
   "source": [
    "# Generate our categorical variable lists\n",
    "data_cat = rel_df.dtypes[rel_df.dtypes == \"object\"].index.tolist()\n",
    "data_cat"
   ]
  },
  {
   "cell_type": "code",
   "execution_count": 29,
   "metadata": {},
   "outputs": [],
   "source": [
    "#data_cat.append(\"age_binned\")\n",
    "#data_cat"
   ]
  },
  {
   "cell_type": "code",
   "execution_count": 30,
   "metadata": {},
   "outputs": [],
   "source": [
    "# Import our dependencies\n",
    "from sklearn.model_selection import train_test_split\n",
    "from sklearn.preprocessing import StandardScaler,OneHotEncoder\n",
    "import pandas as pd\n",
    "import tensorflow as tf"
   ]
  },
  {
   "cell_type": "code",
   "execution_count": 31,
   "metadata": {},
   "outputs": [
    {
     "name": "stderr",
     "output_type": "stream",
     "text": [
      "C:\\Data\\Anaconda\\envs\\mlenv\\lib\\site-packages\\sklearn\\utils\\deprecation.py:87: FutureWarning: Function get_feature_names is deprecated; get_feature_names is deprecated in 1.0 and will be removed in 1.2. Please use get_feature_names_out instead.\n",
      "  warnings.warn(msg, category=FutureWarning)\n"
     ]
    },
    {
     "data": {
      "text/html": [
       "<div>\n",
       "<style scoped>\n",
       "    .dataframe tbody tr th:only-of-type {\n",
       "        vertical-align: middle;\n",
       "    }\n",
       "\n",
       "    .dataframe tbody tr th {\n",
       "        vertical-align: top;\n",
       "    }\n",
       "\n",
       "    .dataframe thead th {\n",
       "        text-align: right;\n",
       "    }\n",
       "</style>\n",
       "<table border=\"1\" class=\"dataframe\">\n",
       "  <thead>\n",
       "    <tr style=\"text-align: right;\">\n",
       "      <th></th>\n",
       "      <th>land_surface_condition_Flat</th>\n",
       "      <th>land_surface_condition_Moderate slope</th>\n",
       "      <th>land_surface_condition_Steep slope</th>\n",
       "      <th>foundation_type_Bamboo/Timber</th>\n",
       "      <th>foundation_type_Cement-Stone/Brick</th>\n",
       "      <th>foundation_type_Mud mortar-Stone/Brick</th>\n",
       "      <th>foundation_type_Other</th>\n",
       "      <th>foundation_type_RC</th>\n",
       "      <th>roof_type_Bamboo/Timber-Heavy roof</th>\n",
       "      <th>roof_type_Bamboo/Timber-Light roof</th>\n",
       "      <th>...</th>\n",
       "      <th>plan_configuration_T-shape</th>\n",
       "      <th>plan_configuration_U-shape</th>\n",
       "      <th>condition_post_eq_Covered by landslide</th>\n",
       "      <th>condition_post_eq_Damaged-Not used</th>\n",
       "      <th>condition_post_eq_Damaged-Repaired and used</th>\n",
       "      <th>condition_post_eq_Damaged-Rubble Clear-New building built</th>\n",
       "      <th>condition_post_eq_Damaged-Rubble clear</th>\n",
       "      <th>condition_post_eq_Damaged-Rubble unclear</th>\n",
       "      <th>condition_post_eq_Damaged-Used in risk</th>\n",
       "      <th>condition_post_eq_Not damaged</th>\n",
       "    </tr>\n",
       "  </thead>\n",
       "  <tbody>\n",
       "    <tr>\n",
       "      <th>0</th>\n",
       "      <td>1.0</td>\n",
       "      <td>0.0</td>\n",
       "      <td>0.0</td>\n",
       "      <td>0.0</td>\n",
       "      <td>0.0</td>\n",
       "      <td>1.0</td>\n",
       "      <td>0.0</td>\n",
       "      <td>0.0</td>\n",
       "      <td>0.0</td>\n",
       "      <td>1.0</td>\n",
       "      <td>...</td>\n",
       "      <td>0.0</td>\n",
       "      <td>0.0</td>\n",
       "      <td>0.0</td>\n",
       "      <td>1.0</td>\n",
       "      <td>0.0</td>\n",
       "      <td>0.0</td>\n",
       "      <td>0.0</td>\n",
       "      <td>0.0</td>\n",
       "      <td>0.0</td>\n",
       "      <td>0.0</td>\n",
       "    </tr>\n",
       "    <tr>\n",
       "      <th>1</th>\n",
       "      <td>1.0</td>\n",
       "      <td>0.0</td>\n",
       "      <td>0.0</td>\n",
       "      <td>0.0</td>\n",
       "      <td>0.0</td>\n",
       "      <td>1.0</td>\n",
       "      <td>0.0</td>\n",
       "      <td>0.0</td>\n",
       "      <td>0.0</td>\n",
       "      <td>1.0</td>\n",
       "      <td>...</td>\n",
       "      <td>0.0</td>\n",
       "      <td>0.0</td>\n",
       "      <td>0.0</td>\n",
       "      <td>1.0</td>\n",
       "      <td>0.0</td>\n",
       "      <td>0.0</td>\n",
       "      <td>0.0</td>\n",
       "      <td>0.0</td>\n",
       "      <td>0.0</td>\n",
       "      <td>0.0</td>\n",
       "    </tr>\n",
       "    <tr>\n",
       "      <th>2</th>\n",
       "      <td>1.0</td>\n",
       "      <td>0.0</td>\n",
       "      <td>0.0</td>\n",
       "      <td>0.0</td>\n",
       "      <td>0.0</td>\n",
       "      <td>1.0</td>\n",
       "      <td>0.0</td>\n",
       "      <td>0.0</td>\n",
       "      <td>0.0</td>\n",
       "      <td>1.0</td>\n",
       "      <td>...</td>\n",
       "      <td>0.0</td>\n",
       "      <td>0.0</td>\n",
       "      <td>0.0</td>\n",
       "      <td>1.0</td>\n",
       "      <td>0.0</td>\n",
       "      <td>0.0</td>\n",
       "      <td>0.0</td>\n",
       "      <td>0.0</td>\n",
       "      <td>0.0</td>\n",
       "      <td>0.0</td>\n",
       "    </tr>\n",
       "    <tr>\n",
       "      <th>3</th>\n",
       "      <td>1.0</td>\n",
       "      <td>0.0</td>\n",
       "      <td>0.0</td>\n",
       "      <td>0.0</td>\n",
       "      <td>0.0</td>\n",
       "      <td>1.0</td>\n",
       "      <td>0.0</td>\n",
       "      <td>0.0</td>\n",
       "      <td>0.0</td>\n",
       "      <td>1.0</td>\n",
       "      <td>...</td>\n",
       "      <td>0.0</td>\n",
       "      <td>0.0</td>\n",
       "      <td>0.0</td>\n",
       "      <td>1.0</td>\n",
       "      <td>0.0</td>\n",
       "      <td>0.0</td>\n",
       "      <td>0.0</td>\n",
       "      <td>0.0</td>\n",
       "      <td>0.0</td>\n",
       "      <td>0.0</td>\n",
       "    </tr>\n",
       "    <tr>\n",
       "      <th>4</th>\n",
       "      <td>1.0</td>\n",
       "      <td>0.0</td>\n",
       "      <td>0.0</td>\n",
       "      <td>0.0</td>\n",
       "      <td>0.0</td>\n",
       "      <td>1.0</td>\n",
       "      <td>0.0</td>\n",
       "      <td>0.0</td>\n",
       "      <td>0.0</td>\n",
       "      <td>1.0</td>\n",
       "      <td>...</td>\n",
       "      <td>0.0</td>\n",
       "      <td>0.0</td>\n",
       "      <td>0.0</td>\n",
       "      <td>0.0</td>\n",
       "      <td>0.0</td>\n",
       "      <td>0.0</td>\n",
       "      <td>0.0</td>\n",
       "      <td>0.0</td>\n",
       "      <td>1.0</td>\n",
       "      <td>0.0</td>\n",
       "    </tr>\n",
       "  </tbody>\n",
       "</table>\n",
       "<p>5 rows × 42 columns</p>\n",
       "</div>"
      ],
      "text/plain": [
       "   land_surface_condition_Flat  land_surface_condition_Moderate slope  \\\n",
       "0                          1.0                                    0.0   \n",
       "1                          1.0                                    0.0   \n",
       "2                          1.0                                    0.0   \n",
       "3                          1.0                                    0.0   \n",
       "4                          1.0                                    0.0   \n",
       "\n",
       "   land_surface_condition_Steep slope  foundation_type_Bamboo/Timber  \\\n",
       "0                                 0.0                            0.0   \n",
       "1                                 0.0                            0.0   \n",
       "2                                 0.0                            0.0   \n",
       "3                                 0.0                            0.0   \n",
       "4                                 0.0                            0.0   \n",
       "\n",
       "   foundation_type_Cement-Stone/Brick  foundation_type_Mud mortar-Stone/Brick  \\\n",
       "0                                 0.0                                     1.0   \n",
       "1                                 0.0                                     1.0   \n",
       "2                                 0.0                                     1.0   \n",
       "3                                 0.0                                     1.0   \n",
       "4                                 0.0                                     1.0   \n",
       "\n",
       "   foundation_type_Other  foundation_type_RC  \\\n",
       "0                    0.0                 0.0   \n",
       "1                    0.0                 0.0   \n",
       "2                    0.0                 0.0   \n",
       "3                    0.0                 0.0   \n",
       "4                    0.0                 0.0   \n",
       "\n",
       "   roof_type_Bamboo/Timber-Heavy roof  roof_type_Bamboo/Timber-Light roof  \\\n",
       "0                                 0.0                                 1.0   \n",
       "1                                 0.0                                 1.0   \n",
       "2                                 0.0                                 1.0   \n",
       "3                                 0.0                                 1.0   \n",
       "4                                 0.0                                 1.0   \n",
       "\n",
       "   ...  plan_configuration_T-shape  plan_configuration_U-shape  \\\n",
       "0  ...                         0.0                         0.0   \n",
       "1  ...                         0.0                         0.0   \n",
       "2  ...                         0.0                         0.0   \n",
       "3  ...                         0.0                         0.0   \n",
       "4  ...                         0.0                         0.0   \n",
       "\n",
       "   condition_post_eq_Covered by landslide  condition_post_eq_Damaged-Not used  \\\n",
       "0                                     0.0                                 1.0   \n",
       "1                                     0.0                                 1.0   \n",
       "2                                     0.0                                 1.0   \n",
       "3                                     0.0                                 1.0   \n",
       "4                                     0.0                                 0.0   \n",
       "\n",
       "   condition_post_eq_Damaged-Repaired and used  \\\n",
       "0                                          0.0   \n",
       "1                                          0.0   \n",
       "2                                          0.0   \n",
       "3                                          0.0   \n",
       "4                                          0.0   \n",
       "\n",
       "   condition_post_eq_Damaged-Rubble Clear-New building built  \\\n",
       "0                                                0.0           \n",
       "1                                                0.0           \n",
       "2                                                0.0           \n",
       "3                                                0.0           \n",
       "4                                                0.0           \n",
       "\n",
       "   condition_post_eq_Damaged-Rubble clear  \\\n",
       "0                                     0.0   \n",
       "1                                     0.0   \n",
       "2                                     0.0   \n",
       "3                                     0.0   \n",
       "4                                     0.0   \n",
       "\n",
       "   condition_post_eq_Damaged-Rubble unclear  \\\n",
       "0                                       0.0   \n",
       "1                                       0.0   \n",
       "2                                       0.0   \n",
       "3                                       0.0   \n",
       "4                                       0.0   \n",
       "\n",
       "   condition_post_eq_Damaged-Used in risk  condition_post_eq_Not damaged  \n",
       "0                                     0.0                            0.0  \n",
       "1                                     0.0                            0.0  \n",
       "2                                     0.0                            0.0  \n",
       "3                                     0.0                            0.0  \n",
       "4                                     1.0                            0.0  \n",
       "\n",
       "[5 rows x 42 columns]"
      ]
     },
     "execution_count": 31,
     "metadata": {},
     "output_type": "execute_result"
    }
   ],
   "source": [
    "# Create a OneHotEncoder instance\n",
    "enc = OneHotEncoder(sparse=False)\n",
    "\n",
    "# Fit and transform the OneHotEncoder using the categorical variable list\n",
    "encode_df = pd.DataFrame(enc.fit_transform(rel_df[data_cat]))\n",
    "\n",
    "# Add the encoded variable names to the dataframe\n",
    "encode_df.columns = enc.get_feature_names(data_cat)\n",
    "encode_df.head()"
   ]
  },
  {
   "cell_type": "code",
   "execution_count": null,
   "metadata": {},
   "outputs": [],
   "source": []
  },
  {
   "cell_type": "code",
   "execution_count": 32,
   "metadata": {},
   "outputs": [
    {
     "name": "stderr",
     "output_type": "stream",
     "text": [
      "C:\\Data\\Anaconda\\envs\\mlenv\\lib\\site-packages\\ipykernel_launcher.py:3: FutureWarning: In a future version of pandas all arguments of DataFrame.drop except for the argument 'labels' will be keyword-only\n",
      "  This is separate from the ipykernel package so we can avoid doing imports until\n"
     ]
    },
    {
     "data": {
      "text/html": [
       "<div>\n",
       "<style scoped>\n",
       "    .dataframe tbody tr th:only-of-type {\n",
       "        vertical-align: middle;\n",
       "    }\n",
       "\n",
       "    .dataframe tbody tr th {\n",
       "        vertical-align: top;\n",
       "    }\n",
       "\n",
       "    .dataframe thead th {\n",
       "        text-align: right;\n",
       "    }\n",
       "</style>\n",
       "<table border=\"1\" class=\"dataframe\">\n",
       "  <thead>\n",
       "    <tr style=\"text-align: right;\">\n",
       "      <th></th>\n",
       "      <th>district_id</th>\n",
       "      <th>vdcmun_id</th>\n",
       "      <th>damage_grade</th>\n",
       "      <th>count_floors_pre_eq</th>\n",
       "      <th>age_building</th>\n",
       "      <th>plinth_area_sq_ft</th>\n",
       "      <th>height_ft_pre_eq</th>\n",
       "      <th>has_superstructure_adobe_mud</th>\n",
       "      <th>has_superstructure_mud_mortar_stone</th>\n",
       "      <th>has_superstructure_stone_flag</th>\n",
       "      <th>...</th>\n",
       "      <th>plan_configuration_T-shape</th>\n",
       "      <th>plan_configuration_U-shape</th>\n",
       "      <th>condition_post_eq_Covered by landslide</th>\n",
       "      <th>condition_post_eq_Damaged-Not used</th>\n",
       "      <th>condition_post_eq_Damaged-Repaired and used</th>\n",
       "      <th>condition_post_eq_Damaged-Rubble Clear-New building built</th>\n",
       "      <th>condition_post_eq_Damaged-Rubble clear</th>\n",
       "      <th>condition_post_eq_Damaged-Rubble unclear</th>\n",
       "      <th>condition_post_eq_Damaged-Used in risk</th>\n",
       "      <th>condition_post_eq_Not damaged</th>\n",
       "    </tr>\n",
       "  </thead>\n",
       "  <tbody>\n",
       "    <tr>\n",
       "      <th>0</th>\n",
       "      <td>12</td>\n",
       "      <td>1205</td>\n",
       "      <td>4.0</td>\n",
       "      <td>2.0</td>\n",
       "      <td>25.0</td>\n",
       "      <td>356.0</td>\n",
       "      <td>14.0</td>\n",
       "      <td>0.0</td>\n",
       "      <td>1.0</td>\n",
       "      <td>0.0</td>\n",
       "      <td>...</td>\n",
       "      <td>0.0</td>\n",
       "      <td>0.0</td>\n",
       "      <td>0.0</td>\n",
       "      <td>1.0</td>\n",
       "      <td>0.0</td>\n",
       "      <td>0.0</td>\n",
       "      <td>0.0</td>\n",
       "      <td>0.0</td>\n",
       "      <td>0.0</td>\n",
       "      <td>0.0</td>\n",
       "    </tr>\n",
       "    <tr>\n",
       "      <th>1</th>\n",
       "      <td>12</td>\n",
       "      <td>1207</td>\n",
       "      <td>4.0</td>\n",
       "      <td>2.0</td>\n",
       "      <td>30.0</td>\n",
       "      <td>275.0</td>\n",
       "      <td>12.0</td>\n",
       "      <td>0.0</td>\n",
       "      <td>1.0</td>\n",
       "      <td>0.0</td>\n",
       "      <td>...</td>\n",
       "      <td>0.0</td>\n",
       "      <td>0.0</td>\n",
       "      <td>0.0</td>\n",
       "      <td>1.0</td>\n",
       "      <td>0.0</td>\n",
       "      <td>0.0</td>\n",
       "      <td>0.0</td>\n",
       "      <td>0.0</td>\n",
       "      <td>0.0</td>\n",
       "      <td>0.0</td>\n",
       "    </tr>\n",
       "    <tr>\n",
       "      <th>2</th>\n",
       "      <td>12</td>\n",
       "      <td>1208</td>\n",
       "      <td>4.0</td>\n",
       "      <td>2.0</td>\n",
       "      <td>20.0</td>\n",
       "      <td>450.0</td>\n",
       "      <td>18.0</td>\n",
       "      <td>0.0</td>\n",
       "      <td>1.0</td>\n",
       "      <td>0.0</td>\n",
       "      <td>...</td>\n",
       "      <td>0.0</td>\n",
       "      <td>0.0</td>\n",
       "      <td>0.0</td>\n",
       "      <td>1.0</td>\n",
       "      <td>0.0</td>\n",
       "      <td>0.0</td>\n",
       "      <td>0.0</td>\n",
       "      <td>0.0</td>\n",
       "      <td>0.0</td>\n",
       "      <td>0.0</td>\n",
       "    </tr>\n",
       "    <tr>\n",
       "      <th>3</th>\n",
       "      <td>12</td>\n",
       "      <td>1201</td>\n",
       "      <td>4.0</td>\n",
       "      <td>2.0</td>\n",
       "      <td>12.0</td>\n",
       "      <td>240.0</td>\n",
       "      <td>8.0</td>\n",
       "      <td>0.0</td>\n",
       "      <td>1.0</td>\n",
       "      <td>0.0</td>\n",
       "      <td>...</td>\n",
       "      <td>0.0</td>\n",
       "      <td>0.0</td>\n",
       "      <td>0.0</td>\n",
       "      <td>1.0</td>\n",
       "      <td>0.0</td>\n",
       "      <td>0.0</td>\n",
       "      <td>0.0</td>\n",
       "      <td>0.0</td>\n",
       "      <td>0.0</td>\n",
       "      <td>0.0</td>\n",
       "    </tr>\n",
       "    <tr>\n",
       "      <th>4</th>\n",
       "      <td>12</td>\n",
       "      <td>1201</td>\n",
       "      <td>4.0</td>\n",
       "      <td>2.0</td>\n",
       "      <td>20.0</td>\n",
       "      <td>300.0</td>\n",
       "      <td>12.0</td>\n",
       "      <td>0.0</td>\n",
       "      <td>1.0</td>\n",
       "      <td>0.0</td>\n",
       "      <td>...</td>\n",
       "      <td>0.0</td>\n",
       "      <td>0.0</td>\n",
       "      <td>0.0</td>\n",
       "      <td>0.0</td>\n",
       "      <td>0.0</td>\n",
       "      <td>0.0</td>\n",
       "      <td>0.0</td>\n",
       "      <td>0.0</td>\n",
       "      <td>1.0</td>\n",
       "      <td>0.0</td>\n",
       "    </tr>\n",
       "  </tbody>\n",
       "</table>\n",
       "<p>5 rows × 60 columns</p>\n",
       "</div>"
      ],
      "text/plain": [
       "   district_id  vdcmun_id  damage_grade  count_floors_pre_eq  age_building  \\\n",
       "0           12       1205           4.0                  2.0          25.0   \n",
       "1           12       1207           4.0                  2.0          30.0   \n",
       "2           12       1208           4.0                  2.0          20.0   \n",
       "3           12       1201           4.0                  2.0          12.0   \n",
       "4           12       1201           4.0                  2.0          20.0   \n",
       "\n",
       "   plinth_area_sq_ft  height_ft_pre_eq  has_superstructure_adobe_mud  \\\n",
       "0              356.0              14.0                           0.0   \n",
       "1              275.0              12.0                           0.0   \n",
       "2              450.0              18.0                           0.0   \n",
       "3              240.0               8.0                           0.0   \n",
       "4              300.0              12.0                           0.0   \n",
       "\n",
       "   has_superstructure_mud_mortar_stone  has_superstructure_stone_flag  ...  \\\n",
       "0                                  1.0                            0.0  ...   \n",
       "1                                  1.0                            0.0  ...   \n",
       "2                                  1.0                            0.0  ...   \n",
       "3                                  1.0                            0.0  ...   \n",
       "4                                  1.0                            0.0  ...   \n",
       "\n",
       "   plan_configuration_T-shape  plan_configuration_U-shape  \\\n",
       "0                         0.0                         0.0   \n",
       "1                         0.0                         0.0   \n",
       "2                         0.0                         0.0   \n",
       "3                         0.0                         0.0   \n",
       "4                         0.0                         0.0   \n",
       "\n",
       "   condition_post_eq_Covered by landslide  condition_post_eq_Damaged-Not used  \\\n",
       "0                                     0.0                                 1.0   \n",
       "1                                     0.0                                 1.0   \n",
       "2                                     0.0                                 1.0   \n",
       "3                                     0.0                                 1.0   \n",
       "4                                     0.0                                 0.0   \n",
       "\n",
       "   condition_post_eq_Damaged-Repaired and used  \\\n",
       "0                                          0.0   \n",
       "1                                          0.0   \n",
       "2                                          0.0   \n",
       "3                                          0.0   \n",
       "4                                          0.0   \n",
       "\n",
       "   condition_post_eq_Damaged-Rubble Clear-New building built  \\\n",
       "0                                                0.0           \n",
       "1                                                0.0           \n",
       "2                                                0.0           \n",
       "3                                                0.0           \n",
       "4                                                0.0           \n",
       "\n",
       "   condition_post_eq_Damaged-Rubble clear  \\\n",
       "0                                     0.0   \n",
       "1                                     0.0   \n",
       "2                                     0.0   \n",
       "3                                     0.0   \n",
       "4                                     0.0   \n",
       "\n",
       "   condition_post_eq_Damaged-Rubble unclear  \\\n",
       "0                                       0.0   \n",
       "1                                       0.0   \n",
       "2                                       0.0   \n",
       "3                                       0.0   \n",
       "4                                       0.0   \n",
       "\n",
       "   condition_post_eq_Damaged-Used in risk  condition_post_eq_Not damaged  \n",
       "0                                     0.0                            0.0  \n",
       "1                                     0.0                            0.0  \n",
       "2                                     0.0                            0.0  \n",
       "3                                     0.0                            0.0  \n",
       "4                                     1.0                            0.0  \n",
       "\n",
       "[5 rows x 60 columns]"
      ]
     },
     "execution_count": 32,
     "metadata": {},
     "output_type": "execute_result"
    }
   ],
   "source": [
    "# Merge one-hot encoded features and drop the originals\n",
    "rel_m_df = rel_df.merge(encode_df,left_index=True, right_index=True)\n",
    "rel_m_df = rel_m_df.drop(data_cat,1)\n",
    "rel_m_df.head()"
   ]
  },
  {
   "cell_type": "code",
   "execution_count": 33,
   "metadata": {},
   "outputs": [
    {
     "data": {
      "text/plain": [
       "['district_id',\n",
       " 'vdcmun_id',\n",
       " 'damage_grade',\n",
       " 'count_floors_pre_eq',\n",
       " 'age_building',\n",
       " 'plinth_area_sq_ft',\n",
       " 'height_ft_pre_eq',\n",
       " 'has_superstructure_adobe_mud',\n",
       " 'has_superstructure_mud_mortar_stone',\n",
       " 'has_superstructure_stone_flag',\n",
       " 'has_superstructure_cement_mortar_stone',\n",
       " 'has_superstructure_mud_mortar_brick',\n",
       " 'has_superstructure_cement_mortar_brick',\n",
       " 'has_superstructure_timber',\n",
       " 'has_superstructure_bamboo',\n",
       " 'has_superstructure_rc_non_engineered',\n",
       " 'has_superstructure_rc_engineered',\n",
       " 'has_superstructure_other',\n",
       " 'land_surface_condition_Flat',\n",
       " 'land_surface_condition_Moderate slope',\n",
       " 'land_surface_condition_Steep slope',\n",
       " 'foundation_type_Bamboo/Timber',\n",
       " 'foundation_type_Cement-Stone/Brick',\n",
       " 'foundation_type_Mud mortar-Stone/Brick',\n",
       " 'foundation_type_Other',\n",
       " 'foundation_type_RC',\n",
       " 'roof_type_Bamboo/Timber-Heavy roof',\n",
       " 'roof_type_Bamboo/Timber-Light roof',\n",
       " 'roof_type_RCC/RB/RBC',\n",
       " 'ground_floor_type_Brick/Stone',\n",
       " 'ground_floor_type_Mud',\n",
       " 'ground_floor_type_Other',\n",
       " 'ground_floor_type_RC',\n",
       " 'ground_floor_type_Timber',\n",
       " 'other_floor_type_Not applicable',\n",
       " 'other_floor_type_RCC/RB/RBC',\n",
       " 'other_floor_type_TImber/Bamboo-Mud',\n",
       " 'other_floor_type_Timber-Planck',\n",
       " 'position_Attached-1 side',\n",
       " 'position_Attached-2 side',\n",
       " 'position_Attached-3 side',\n",
       " 'position_Not attached',\n",
       " 'plan_configuration_Building with Central Courtyard',\n",
       " 'plan_configuration_E-shape',\n",
       " 'plan_configuration_H-shape',\n",
       " 'plan_configuration_L-shape',\n",
       " 'plan_configuration_Multi-projected',\n",
       " 'plan_configuration_Others',\n",
       " 'plan_configuration_Rectangular',\n",
       " 'plan_configuration_Square',\n",
       " 'plan_configuration_T-shape',\n",
       " 'plan_configuration_U-shape',\n",
       " 'condition_post_eq_Covered by landslide',\n",
       " 'condition_post_eq_Damaged-Not used',\n",
       " 'condition_post_eq_Damaged-Repaired and used',\n",
       " 'condition_post_eq_Damaged-Rubble Clear-New building built',\n",
       " 'condition_post_eq_Damaged-Rubble clear',\n",
       " 'condition_post_eq_Damaged-Rubble unclear',\n",
       " 'condition_post_eq_Damaged-Used in risk',\n",
       " 'condition_post_eq_Not damaged']"
      ]
     },
     "execution_count": 33,
     "metadata": {},
     "output_type": "execute_result"
    }
   ],
   "source": [
    "list(rel_m_df.columns)"
   ]
  },
  {
   "cell_type": "code",
   "execution_count": 34,
   "metadata": {},
   "outputs": [
    {
     "data": {
      "text/plain": [
       "['damage_grade',\n",
       " 'count_floors_pre_eq',\n",
       " 'age_building',\n",
       " 'plinth_area_sq_ft',\n",
       " 'height_ft_pre_eq',\n",
       " 'has_superstructure_adobe_mud',\n",
       " 'has_superstructure_mud_mortar_stone',\n",
       " 'has_superstructure_stone_flag',\n",
       " 'has_superstructure_cement_mortar_stone',\n",
       " 'has_superstructure_mud_mortar_brick',\n",
       " 'has_superstructure_cement_mortar_brick',\n",
       " 'has_superstructure_timber',\n",
       " 'has_superstructure_bamboo',\n",
       " 'has_superstructure_rc_non_engineered',\n",
       " 'has_superstructure_rc_engineered',\n",
       " 'has_superstructure_other',\n",
       " 'land_surface_condition_Flat',\n",
       " 'land_surface_condition_Moderate slope',\n",
       " 'land_surface_condition_Steep slope',\n",
       " 'foundation_type_Bamboo/Timber',\n",
       " 'foundation_type_Cement-Stone/Brick',\n",
       " 'foundation_type_Mud mortar-Stone/Brick',\n",
       " 'foundation_type_Other',\n",
       " 'foundation_type_RC',\n",
       " 'roof_type_Bamboo/Timber-Heavy roof',\n",
       " 'roof_type_Bamboo/Timber-Light roof',\n",
       " 'roof_type_RCC/RB/RBC',\n",
       " 'ground_floor_type_Brick/Stone',\n",
       " 'ground_floor_type_Mud',\n",
       " 'ground_floor_type_Other',\n",
       " 'ground_floor_type_RC',\n",
       " 'ground_floor_type_Timber',\n",
       " 'other_floor_type_Not applicable',\n",
       " 'other_floor_type_RCC/RB/RBC',\n",
       " 'other_floor_type_TImber/Bamboo-Mud',\n",
       " 'other_floor_type_Timber-Planck',\n",
       " 'position_Attached-1 side',\n",
       " 'position_Attached-2 side',\n",
       " 'position_Attached-3 side',\n",
       " 'position_Not attached',\n",
       " 'plan_configuration_Building with Central Courtyard',\n",
       " 'plan_configuration_E-shape',\n",
       " 'plan_configuration_H-shape',\n",
       " 'plan_configuration_L-shape',\n",
       " 'plan_configuration_Multi-projected',\n",
       " 'plan_configuration_Others',\n",
       " 'plan_configuration_Rectangular',\n",
       " 'plan_configuration_Square',\n",
       " 'plan_configuration_T-shape',\n",
       " 'plan_configuration_U-shape',\n",
       " 'condition_post_eq_Covered by landslide',\n",
       " 'condition_post_eq_Damaged-Not used',\n",
       " 'condition_post_eq_Damaged-Repaired and used',\n",
       " 'condition_post_eq_Damaged-Rubble Clear-New building built',\n",
       " 'condition_post_eq_Damaged-Rubble clear',\n",
       " 'condition_post_eq_Damaged-Rubble unclear',\n",
       " 'condition_post_eq_Damaged-Used in risk',\n",
       " 'condition_post_eq_Not damaged']"
      ]
     },
     "execution_count": 34,
     "metadata": {},
     "output_type": "execute_result"
    }
   ],
   "source": [
    "rel_m_df=rel_m_df.drop(columns=['district_id','vdcmun_id',])\n",
    "list(rel_m_df.columns)"
   ]
  },
  {
   "cell_type": "code",
   "execution_count": 35,
   "metadata": {},
   "outputs": [],
   "source": [
    "# Split our preprocessed data into our features and target arrays\n",
    "yy = rel_m_df.damage_grade\n",
    "X = rel_m_df.drop(columns=[\"damage_grade\"])"
   ]
  },
  {
   "cell_type": "code",
   "execution_count": 36,
   "metadata": {},
   "outputs": [],
   "source": [
    "y= pd.get_dummies(yy)"
   ]
  },
  {
   "cell_type": "code",
   "execution_count": 37,
   "metadata": {},
   "outputs": [],
   "source": [
    "y = y.values"
   ]
  },
  {
   "cell_type": "code",
   "execution_count": 38,
   "metadata": {},
   "outputs": [],
   "source": [
    "X=X.values"
   ]
  },
  {
   "cell_type": "code",
   "execution_count": 39,
   "metadata": {},
   "outputs": [
    {
     "data": {
      "text/plain": [
       "array([[  2.,  25., 356., ...,   0.,   0.,   0.],\n",
       "       [  2.,  30., 275., ...,   0.,   0.,   0.],\n",
       "       [  2.,  20., 450., ...,   0.,   0.,   0.],\n",
       "       ...,\n",
       "       [  2.,  18., 155., ...,   0.,   1.,   0.],\n",
       "       [  2.,  35., 425., ...,   0.,   0.,   0.],\n",
       "       [  2.,  32., 416., ...,   0.,   0.,   0.]])"
      ]
     },
     "execution_count": 39,
     "metadata": {},
     "output_type": "execute_result"
    }
   ],
   "source": [
    "X"
   ]
  },
  {
   "cell_type": "code",
   "execution_count": 40,
   "metadata": {},
   "outputs": [],
   "source": [
    "# Split the preprocessed data into a training and testing dataset\n",
    "X_train, X_test, y_train, y_test = train_test_split(X, y, random_state=78)"
   ]
  },
  {
   "cell_type": "code",
   "execution_count": 41,
   "metadata": {},
   "outputs": [
    {
     "data": {
      "text/plain": [
       "array([[0, 0, 1, 0, 0],\n",
       "       [0, 0, 1, 0, 0],\n",
       "       [0, 0, 1, 0, 0],\n",
       "       ...,\n",
       "       [0, 0, 1, 0, 0],\n",
       "       [0, 0, 0, 0, 1],\n",
       "       [0, 0, 0, 1, 0]], dtype=uint8)"
      ]
     },
     "execution_count": 41,
     "metadata": {},
     "output_type": "execute_result"
    }
   ],
   "source": [
    "(y_train)"
   ]
  },
  {
   "cell_type": "code",
   "execution_count": 42,
   "metadata": {},
   "outputs": [],
   "source": [
    "#from imblearn.combine import SMOTEENN\n",
    "\n",
    "#smote_enn = SMOTEENN(random_state=0)\n",
    "#X_resampled, y_resampled = smote_enn.fit_resample(X_train,y_train)"
   ]
  },
  {
   "cell_type": "code",
   "execution_count": 43,
   "metadata": {},
   "outputs": [],
   "source": [
    "# Create a StandardScaler instances\n",
    "scaler = StandardScaler()\n",
    "\n",
    "# Fit the StandardScaler\n",
    "X_scaler = scaler.fit(X_train)\n",
    "\n",
    "# Scale the data\n",
    "X_train_scaled = X_scaler.transform(X_train)\n",
    "X_test_scaled = X_scaler.transform(X_test)"
   ]
  },
  {
   "cell_type": "code",
   "execution_count": 44,
   "metadata": {},
   "outputs": [
    {
     "data": {
      "text/plain": [
       "array([-1.35089505e-01, -2.20623458e-01,  4.12311261e-01, -1.28487829e+00,\n",
       "       -2.10486211e-01, -2.00103286e+00, -1.90640992e-01, -1.27367660e-01,\n",
       "       -1.53475867e-01,  3.59768723e+00, -5.91208734e-01, -2.96055944e-01,\n",
       "       -2.03895803e-01, -1.28919290e-01, -1.10340844e-01, -2.19939660e+00,\n",
       "        2.49175218e+00, -1.83548312e-01,  3.49881575e+00, -2.32556478e-01,\n",
       "       -2.17252551e+00, -7.72323608e-02, -2.09573520e-01, -6.24455113e-01,\n",
       "        7.16018587e-01, -2.48988313e-01, -3.08197888e-01, -2.07455706e+00,\n",
       "        2.69991013e+01, -3.25388901e-01, -6.86244214e-02, -4.29397350e-01,\n",
       "       -2.11549140e-01, -1.33167806e+00,  2.27389575e+00, -4.52623398e-01,\n",
       "       -1.90744464e-01, -4.13588218e-02,  5.10677299e-01, -1.16077152e-02,\n",
       "       -1.30955095e-02, -1.04994449e-02, -1.15676649e-01, -3.51925395e-02,\n",
       "       -2.63976292e-02,  2.05348362e-01, -1.53613159e-01, -3.56874661e-02,\n",
       "       -2.41446433e-02, -2.21784949e-02, -6.12602505e-01, -4.06156833e-01,\n",
       "       -2.13213780e-01, -3.93837379e-01, -4.44219683e-01,  2.26873855e+00,\n",
       "       -2.94441496e-01])"
      ]
     },
     "execution_count": 44,
     "metadata": {},
     "output_type": "execute_result"
    }
   ],
   "source": [
    "X_train_scaled[0]"
   ]
  },
  {
   "cell_type": "markdown",
   "metadata": {},
   "source": [
    "# Nueral Network Model"
   ]
  },
  {
   "cell_type": "code",
   "execution_count": 45,
   "metadata": {},
   "outputs": [],
   "source": [
    "import numpy as np\n",
    "import pandas as pd\n",
    "from keras.models import Sequential\n",
    "from keras.layers import Dense\n",
    "from keras.wrappers.scikit_learn import KerasClassifier\n",
    "from sklearn.model_selection import cross_val_score\n",
    "from sklearn.model_selection import KFold\n",
    "from sklearn.preprocessing import MinMaxScaler\n",
    "import matplotlib.pyplot as plt\n",
    "from sklearn.ensemble import RandomForestClassifier"
   ]
  },
  {
   "cell_type": "code",
   "execution_count": 46,
   "metadata": {},
   "outputs": [],
   "source": [
    "# First define baseline model. Then use it in Keras Classifier for the training\n",
    "model = Sequential()\n",
    "model.add(Dense(120, input_dim = len(X_train_scaled[0]), activation = 'relu')) \n",
    "model.add(Dense(120, activation = 'relu'))\n",
    "model.add(Dense(5, activation = 'sigmoid')) \n",
    "model.compile(loss = 'categorical_crossentropy', optimizer = 'adam', metrics = ['categorical_accuracy'])"
   ]
  },
  {
   "cell_type": "code",
   "execution_count": 47,
   "metadata": {},
   "outputs": [
    {
     "name": "stdout",
     "output_type": "stream",
     "text": [
      "17861/17861 [==============================] - 19s 1ms/step - loss: 1.0203 - categorical_accuracy: 0.5940\n"
     ]
    }
   ],
   "source": [
    "fit_model=model.fit(X_train_scaled, y_train, epochs=1)"
   ]
  },
  {
   "cell_type": "code",
   "execution_count": 48,
   "metadata": {},
   "outputs": [
    {
     "name": "stdout",
     "output_type": "stream",
     "text": [
      "5954/5954 [==============================] - 4s 715us/step\n"
     ]
    }
   ],
   "source": [
    "NN_predictions = model.predict(X_test_scaled)"
   ]
  },
  {
   "cell_type": "code",
   "execution_count": 49,
   "metadata": {},
   "outputs": [
    {
     "name": "stdout",
     "output_type": "stream",
     "text": [
      "[[11002  3922   301  2501  1856]\n",
      " [ 1793  8816   302 10294   792]\n",
      " [ 3034  4138  1080 14917 10915]\n",
      " [  743  2239   281 41148  1470]\n",
      " [ 1487  1587   574 13118 52208]]\n",
      "-------------------------------------------------\n",
      "[0.56184251 0.40078192 0.03168642 0.89684183 0.7569229 ]\n"
     ]
    }
   ],
   "source": [
    "from sklearn.metrics import confusion_matrix\n",
    "y_p=np.argmax(NN_predictions, axis=1)\n",
    "y_t=np.argmax(y_test, axis=1)\n",
    "cm = confusion_matrix(y_t,y_p)\n",
    "print(cm)\n",
    "print(\"-------------------------------------------------\")\n",
    "print((cm.astype('float') / cm.sum(axis=1)[:, np.newaxis]).diagonal())"
   ]
  },
  {
   "cell_type": "code",
   "execution_count": 50,
   "metadata": {},
   "outputs": [
    {
     "name": "stdout",
     "output_type": "stream",
     "text": [
      "AxesSubplot(0.125,0.125;0.775x0.755)\n",
      "AxesSubplot(0.125,0.125;0.775x0.755)\n"
     ]
    },
    {
     "data": {
      "image/png": "[encoded data removed]",
      "text/plain": [
       "<Figure size 432x288 with 1 Axes>"
      ]
     },
     "metadata": {
      "needs_background": "light"
     },
     "output_type": "display_data"
    },
    {
     "data": {
      "image/png": "[encoded data removed]",
      "text/plain": [
       "<Figure size 432x288 with 1 Axes>"
      ]
     },
     "metadata": {
      "needs_background": "light"
     },
     "output_type": "display_data"
    }
   ],
   "source": [
    "# Create a DataFrame containing training history\n",
    "history_df = pd.DataFrame(fit_model.history, index=range(1,len(fit_model.history[\"loss\"])+1))\n",
    "# Plot the accuracy\n",
    "print(history_df.plot(y=\"categorical_accuracy\"))\n",
    "print(history_df.plot(y=\"loss\"))"
   ]
  },
  {
   "cell_type": "code",
   "execution_count": 51,
   "metadata": {},
   "outputs": [
    {
     "name": "stdout",
     "output_type": "stream",
     "text": [
      "[0.10288122 0.10287651 0.10287705 ... 1.         1.         1.        ]\n",
      "[0.11549528 0.11549064 0.11549124 ... 0.5        1.         1.        ]\n",
      "[0.17898722 0.17898291 0.17898385 ... 0.         0.         1.        ]\n",
      "[0.24435722 0.24435319 0.2443545  ... 1.         1.         1.        ]\n",
      "[0.36327535 0.36327199 0.36327391 ... 1.         1.         1.        ]\n"
     ]
    }
   ],
   "source": [
    "from sklearn.metrics import precision_recall_curve, roc_curve\n",
    "# precision recall curve\n",
    "precision = dict()\n",
    "recall = dict()\n",
    "for i in range(5):\n",
    "    precision[i], recall[i], _ = precision_recall_curve(y_test[:, i],\n",
    "                                                        NN_predictions[:, i])\n",
    "#   plt.plot(recall[i], precision[i], lw=2, label='class {}'.format(i))\n",
    "    print(precision[i])\n",
    "#plt.xlabel(\"recall\")\n",
    "#plt.ylabel(\"precision\")\n",
    "#plt.legend(loc=\"best\")\n",
    "#plt.title(\"precision vs. recall curve\")\n",
    "#plt.show()"
   ]
  },
  {
   "cell_type": "markdown",
   "metadata": {},
   "source": [
    "# Balanced Random Forest Classifier"
   ]
  },
  {
   "cell_type": "code",
   "execution_count": 52,
   "metadata": {},
   "outputs": [],
   "source": [
    "from imblearn.ensemble import BalancedRandomForestClassifier\n",
    "\n",
    "# Define the model\n",
    "brf_model = BalancedRandomForestClassifier(n_estimators=100, random_state=1)\n",
    "\n",
    "# fit the model\n",
    "brf_model = brf_model.fit(X_train_scaled, y_train)\n",
    "\n",
    "# Predict \n",
    "predictions = brf_model.predict(X_test_scaled)"
   ]
  },
  {
   "cell_type": "code",
   "execution_count": 53,
   "metadata": {},
   "outputs": [],
   "source": [
    "from sklearn.metrics import balanced_accuracy_score\n",
    "from sklearn.metrics import confusion_matrix,accuracy_score, classification_report\n",
    "from imblearn.metrics import classification_report_imbalanced"
   ]
  },
  {
   "cell_type": "code",
   "execution_count": 54,
   "metadata": {},
   "outputs": [
    {
     "name": "stdout",
     "output_type": "stream",
     "text": [
      "              precision    recall  f1-score   support\n",
      "\n",
      "           0       0.61      0.55      0.58     19582\n",
      "           1       0.41      0.28      0.33     21997\n",
      "           2       0.33      0.07      0.11     34084\n",
      "           3       0.62      0.41      0.49     45881\n",
      "           4       0.85      0.63      0.72     68974\n",
      "\n",
      "   micro avg       0.67      0.43      0.52    190518\n",
      "   macro avg       0.56      0.39      0.45    190518\n",
      "weighted avg       0.63      0.43      0.50    190518\n",
      " samples avg       0.43      0.43      0.43    190518\n",
      "\n"
     ]
    },
    {
     "name": "stderr",
     "output_type": "stream",
     "text": [
      "C:\\Data\\Anaconda\\envs\\mlenv\\lib\\site-packages\\sklearn\\metrics\\_classification.py:1318: UndefinedMetricWarning: Precision and F-score are ill-defined and being set to 0.0 in samples with no predicted labels. Use `zero_division` parameter to control this behavior.\n",
      "  _warn_prf(average, modifier, msg_start, len(result))\n"
     ]
    }
   ],
   "source": [
    "print(classification_report(y_test,predictions))"
   ]
  },
  {
   "cell_type": "markdown",
   "metadata": {},
   "source": [
    "# KNN"
   ]
  },
  {
   "cell_type": "code",
   "execution_count": null,
   "metadata": {},
   "outputs": [],
   "source": [
    "from sklearn.neighbors import KNeighborsClassifier\n",
    "knn = KNeighborsClassifier(n_neighbors = 5).fit(X_train_scaled, y_train)"
   ]
  },
  {
   "cell_type": "code",
   "execution_count": null,
   "metadata": {},
   "outputs": [],
   "source": [
    "knn_predictions = knn.predict(X_test_scaled)"
   ]
  },
  {
   "cell_type": "code",
   "execution_count": null,
   "metadata": {},
   "outputs": [],
   "source": [
    "print(classification_report(y_test_final,knn_predictions))"
   ]
  },
  {
   "cell_type": "code",
   "execution_count": 33,
   "metadata": {},
   "outputs": [
    {
     "data": {
      "image/png": "[encoded data removed]",
      "text/plain": [
       "<Figure size 864x360 with 1 Axes>"
      ]
     },
     "metadata": {
      "needs_background": "light"
     },
     "output_type": "display_data"
    }
   ],
   "source": [
    "plt.figure(figsize=(12,5))\n",
    "ax = rel_df.land_surface_condition.value_counts(normalize = True).plot(kind = \"bar\")\n",
    "\n",
    "plt.title(\"Land Surface Condition\")\n",
    "plt.ylabel(\"Count\")\n",
    "plt.xlabel(\"Land Condition\")\n",
    "plt.show()"
   ]
  },
  {
   "cell_type": "code",
   "execution_count": 35,
   "metadata": {},
   "outputs": [
    {
     "data": {
      "image/png": "[encoded data removed]",
      "text/plain": [
       "<Figure size 864x360 with 1 Axes>"
      ]
     },
     "metadata": {
      "needs_background": "light"
     },
     "output_type": "display_data"
    }
   ],
   "source": [
    "# Calculate counts\n",
    "df_temp = rel_df.groupby(['land_surface_condition','damage_grade']).size().reset_index(name='count')\n",
    "\n",
    "# Set Index\n",
    "df_temp = df_temp.set_index(['land_surface_condition', 'damage_grade'])\n",
    "\n",
    "# Calculate Proportion of grade\n",
    "df_temp = df_temp.groupby(level=0).apply(lambda x: 100 * x / float(x.sum())).reset_index()\n",
    "\n",
    "# Plot chart\n",
    "plt.figure(figsize=(12,5))\n",
    "ax = sns.barplot(data = df_temp, \n",
    "                 x = 'land_surface_condition', \n",
    "                 y = 'count', \n",
    "                 hue = 'damage_grade')\n",
    "\n",
    "ax.legend(loc='center left', bbox_to_anchor=(1, 0.5), ncol=1)\n",
    "plt.title(\"Distribution of Damage Grade by Land Surface Type\")\n",
    "plt.xlabel(\"Land Surface Condition\")\n",
    "plt.ylabel(\"Percentage of Buildings\")\n",
    "plt.show()\n"
   ]
  },
  {
   "cell_type": "code",
   "execution_count": 37,
   "metadata": {},
   "outputs": [
    {
     "name": "stderr",
     "output_type": "stream",
     "text": [
      "No artists with labels found to put in legend.  Note that artists whose label start with an underscore are ignored when legend() is called with no argument.\n"
     ]
    },
    {
     "data": {
      "image/png": "[encoded data removed]",
      "text/plain": [
       "<Figure size 864x360 with 2 Axes>"
      ]
     },
     "metadata": {
      "needs_background": "light"
     },
     "output_type": "display_data"
    }
   ],
   "source": [
    "# Calculate counts\n",
    "df_temp = rel_df.groupby(['district_id','damage_grade']).size().reset_index(name='count')\n",
    "\n",
    "# Set Index\n",
    "df_temp = df_temp.set_index(['district_id', 'damage_grade'])\n",
    "\n",
    "# Calculate Proportion of grade\n",
    "df_temp = df_temp.groupby(level=0).apply(lambda x: 100 * x / float(x.sum())).reset_index()\n",
    "\n",
    "# Pivot table\n",
    "df_temp = pd.pivot_table(df_temp, values='count', index=['district_id'], columns='damage_grade')\n",
    "\n",
    "# Plot char\n",
    "plt.figure(figsize=(12,5))\n",
    "ax = sns.heatmap(data = df_temp, annot = True )\n",
    "plt.xticks(rotation = 50)\n",
    "ax.legend(loc='center left', bbox_to_anchor=(1, 0.5), ncol=1)\n",
    "plt.title(\"Distribution of Damage Grade by District\")\n",
    "plt.xlabel(\"Damage Grade\")\n",
    "plt.ylabel(\"District\")\n",
    "plt.show()"
   ]
  },
  {
   "cell_type": "code",
   "execution_count": 39,
   "metadata": {},
   "outputs": [
    {
     "data": {
      "image/png": "[encoded data removed]",
      "text/plain": [
       "<Figure size 864x432 with 1 Axes>"
      ]
     },
     "metadata": {
      "needs_background": "light"
     },
     "output_type": "display_data"
    }
   ],
   "source": [
    "plt.figure(figsize = (12,6))\n",
    "ax = rel_df.roof_type.value_counts().plot(kind = \"bar\")\n",
    "plt.title(\"Number of Buildings by Roof Type\")\n",
    "plt.show()"
   ]
  },
  {
   "cell_type": "code",
   "execution_count": 40,
   "metadata": {},
   "outputs": [
    {
     "name": "stderr",
     "output_type": "stream",
     "text": [
      "No artists with labels found to put in legend.  Note that artists whose label start with an underscore are ignored when legend() is called with no argument.\n"
     ]
    },
    {
     "data": {
      "image/png": "[encoded data removed]",
      "text/plain": [
       "<Figure size 864x360 with 2 Axes>"
      ]
     },
     "metadata": {
      "needs_background": "light"
     },
     "output_type": "display_data"
    }
   ],
   "source": [
    "# Calculate counts\n",
    "df_temp = rel_df.groupby(['roof_type','damage_grade']).size().reset_index(name='count')\n",
    "\n",
    "# Set Index\n",
    "df_temp = df_temp.set_index(['roof_type', 'damage_grade'])\n",
    "\n",
    "# Calculate Proportion of grade\n",
    "df_temp = df_temp.groupby(level=0).apply(lambda x: 100 * x / float(x.sum())).reset_index()\n",
    "\n",
    "# Pivot table\n",
    "df_temp = pd.pivot_table(df_temp, values='count', index=['roof_type'], columns='damage_grade')\n",
    "\n",
    "# Plot char\n",
    "plt.figure(figsize=(12,5))\n",
    "ax = sns.heatmap(data = df_temp, annot = True )\n",
    "plt.xticks(rotation = 50)\n",
    "ax.legend(loc='center left', bbox_to_anchor=(1, 0.5), ncol=1)\n",
    "plt.title(\"Distribution of Damage Grade by Roof Type\")\n",
    "plt.xlabel(\"Damage Grade\")\n",
    "plt.ylabel(\"Roof Type\")\n",
    "plt.show()"
   ]
  },
  {
   "cell_type": "code",
   "execution_count": 41,
   "metadata": {},
   "outputs": [
    {
     "name": "stderr",
     "output_type": "stream",
     "text": [
      "No artists with labels found to put in legend.  Note that artists whose label start with an underscore are ignored when legend() is called with no argument.\n"
     ]
    },
    {
     "data": {
      "image/png": "[encoded data removed]",
      "text/plain": [
       "<Figure size 864x360 with 2 Axes>"
      ]
     },
     "metadata": {
      "needs_background": "light"
     },
     "output_type": "display_data"
    }
   ],
   "source": [
    "# Calculate counts\n",
    "df_temp = rel_df.groupby(['ground_floor_type','damage_grade']).size().reset_index(name='count')\n",
    "\n",
    "# Set Index\n",
    "df_temp = df_temp.set_index(['ground_floor_type', 'damage_grade'])\n",
    "\n",
    "# Calculate Proportion of grade\n",
    "df_temp = df_temp.groupby(level=0).apply(lambda x: 100 * x / float(x.sum())).reset_index()\n",
    "\n",
    "# Pivot table\n",
    "df_temp = pd.pivot_table(df_temp, values='count', index=['ground_floor_type'], columns='damage_grade')\n",
    "\n",
    "# Plot char\n",
    "plt.figure(figsize=(12,5))\n",
    "ax = sns.heatmap(data = df_temp, annot = True )\n",
    "plt.xticks(rotation = 50)\n",
    "ax.legend(loc='center left', bbox_to_anchor=(1, 0.5), ncol=1)\n",
    "plt.title(\"Distribution of Damage Grade by Ground Floor Type\")\n",
    "plt.xlabel(\"Damage Grade\")\n",
    "plt.ylabel(\"Ground Floor Type\")\n",
    "plt.show()\n"
   ]
  },
  {
   "cell_type": "code",
   "execution_count": 43,
   "metadata": {},
   "outputs": [
    {
     "data": {
      "image/png": "[encoded data removed]",
      "text/plain": [
       "<Figure size 864x360 with 1 Axes>"
      ]
     },
     "metadata": {
      "needs_background": "light"
     },
     "output_type": "display_data"
    }
   ],
   "source": [
    "# Calculate counts\n",
    "df_temp = rel_df.groupby(['other_floor_type','damage_grade']).size().reset_index(name='count')\n",
    "\n",
    "# Set Index\n",
    "df_temp = df_temp.set_index(['other_floor_type', 'damage_grade'])\n",
    "\n",
    "# Calculate Proportion of grade\n",
    "df_temp = df_temp.groupby(level=0).apply(lambda x: 100 * x / float(x.sum())).reset_index()\n",
    "\n",
    "# Plot char\n",
    "plt.figure(figsize=(12,5))\n",
    "ax = sns.barplot(data = df_temp, \n",
    "                 x = 'other_floor_type', \n",
    "                 y = 'count', \n",
    "                 hue = 'damage_grade')\n",
    "\n",
    "plt.xticks(rotation = 50)\n",
    "ax.legend(loc='center left', bbox_to_anchor=(1, 0.5), ncol=1)\n",
    "plt.title(\"Distribution of Damage Grade by Other Floor Type\")\n",
    "plt.xlabel(\"Other Floor Type\")\n",
    "plt.ylabel(\"Percentage of Buildings\")\n",
    "plt.show()\n",
    "\n"
   ]
  },
  {
   "cell_type": "code",
   "execution_count": 44,
   "metadata": {},
   "outputs": [
    {
     "data": {
      "image/png": "[encoded data removed]",
      "text/plain": [
       "<Figure size 864x360 with 1 Axes>"
      ]
     },
     "metadata": {
      "needs_background": "light"
     },
     "output_type": "display_data"
    }
   ],
   "source": [
    "# Calculate counts\n",
    "df_temp = rel_df.groupby(['position','damage_grade']).size().reset_index(name='count')\n",
    "\n",
    "# Set Index\n",
    "df_temp = df_temp.set_index(['position', 'damage_grade'])\n",
    "\n",
    "# Calculate Proportion of grade\n",
    "df_temp = df_temp.groupby(level=0).apply(lambda x: 100 * x / float(x.sum())).reset_index()\n",
    "\n",
    "# Plot char\n",
    "plt.figure(figsize=(12,5))\n",
    "ax = sns.barplot(data = df_temp, \n",
    "                 x = 'position', \n",
    "                 y = 'count', \n",
    "                 hue = 'damage_grade')\n",
    "\n",
    "plt.xticks(rotation = 50)\n",
    "ax.legend(loc='center left', bbox_to_anchor=(1, 0.5), ncol=1)\n",
    "plt.title(\"Distribution of Damage Grade by Position\")\n",
    "plt.xlabel(\"Position\")\n",
    "plt.ylabel(\"Percentage of Buildings\")\n",
    "plt.show()\n"
   ]
  },
  {
   "cell_type": "code",
   "execution_count": 45,
   "metadata": {},
   "outputs": [
    {
     "name": "stderr",
     "output_type": "stream",
     "text": [
      "No artists with labels found to put in legend.  Note that artists whose label start with an underscore are ignored when legend() is called with no argument.\n"
     ]
    },
    {
     "data": {
      "image/png": "[encoded data removed]",
      "text/plain": [
       "<Figure size 864x360 with 2 Axes>"
      ]
     },
     "metadata": {
      "needs_background": "light"
     },
     "output_type": "display_data"
    }
   ],
   "source": [
    "# Calculate counts\n",
    "df_temp = rel_df.groupby(['plan_configuration','damage_grade']).size().reset_index(name='count')\n",
    "\n",
    "# Set Index\n",
    "df_temp = df_temp.set_index(['plan_configuration', 'damage_grade'])\n",
    "\n",
    "# Calculate Proportion of grade\n",
    "df_temp = df_temp.groupby(level=0).apply(lambda x: 100 * x / float(x.sum())).reset_index()\n",
    "\n",
    "# Pivot table\n",
    "df_temp = pd.pivot_table(df_temp, values='count', index=['plan_configuration'], columns='damage_grade')\n",
    "\n",
    "# Plot char\n",
    "plt.figure(figsize=(12,5))\n",
    "ax = sns.heatmap(data = df_temp, annot = True )\n",
    "plt.xticks(rotation = 50)\n",
    "ax.legend(loc='center left', bbox_to_anchor=(1, 0.5), ncol=1)\n",
    "plt.title(\"Distribution of Damage Grade by Plan Configuration\")\n",
    "plt.xlabel(\"Damage Grade\")\n",
    "plt.ylabel(\"Plan Configuration\")\n",
    "plt.show()\n"
   ]
  },
  {
   "cell_type": "code",
   "execution_count": null,
   "metadata": {},
   "outputs": [],
   "source": []
  }
 ],
 "metadata": {
  "kernelspec": {
   "display_name": "mlenv",
   "language": "python",
   "name": "mlenv"
  },
  "language_info": {
   "codemirror_mode": {
    "name": "ipython",
    "version": 3
   },
   "file_extension": ".py",
   "mimetype": "text/x-python",
   "name": "python",
   "nbconvert_exporter": "python",
   "pygments_lexer": "ipython3",
   "version": "3.7.13"
  }
 },
 "nbformat": 4,
 "nbformat_minor": 2
}
